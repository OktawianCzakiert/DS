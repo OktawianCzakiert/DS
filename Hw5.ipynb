{
 "cells": [
  {
   "cell_type": "code",
   "id": "initial_id",
   "metadata": {
    "collapsed": true,
    "ExecuteTime": {
     "end_time": "2024-04-21T11:36:07.818082Z",
     "start_time": "2024-04-21T11:36:07.798263Z"
    }
   },
   "source": [
    "import os\n",
    "import pandas as pd\n",
    "import numpy as np\n",
    "from sklearn.model_selection import train_test_split, cross_val_score\n",
    "from sklearn.preprocessing import StandardScaler\n",
    "from sklearn.svm import SVC\n",
    "from sklearn.ensemble import RandomForestClassifier\n",
    "from sklearn.pipeline import Pipeline\n",
    "from sklearn.metrics import accuracy_score"
   ],
   "outputs": [],
   "execution_count": 9
  },
  {
   "metadata": {
    "ExecuteTime": {
     "end_time": "2024-04-21T11:36:12.772998Z",
     "start_time": "2024-04-21T11:36:12.766971Z"
    }
   },
   "cell_type": "code",
   "source": [
    "def calculate_time_domain_features(data):\n",
    "    features = []\n",
    "    for axis in [\"X\", \"Y\", \"Z\"]:\n",
    "        mean = np.mean(data[f\"accelerometer_{axis}\"])\n",
    "        std_dev = np.std(data[f\"accelerometer_{axis}\"])\n",
    "        max_val = np.max(data[f\"accelerometer_{axis}\"])\n",
    "        min_val = np.min(data[f\"accelerometer_{axis}\"])\n",
    "        median = np.median(data[f\"accelerometer_{axis}\"])\n",
    "        range_val = max_val - min_val\n",
    "        interquartile_range = np.percentile(data[f\"accelerometer_{axis}\"], 75) - np.percentile(data[f\"accelerometer_{axis}\"], 25)\n",
    "        rms = np.sqrt(np.mean(data[f\"accelerometer_{axis}\"] ** 2))\n",
    "        features.extend([mean, std_dev, max_val, min_val, median, range_val, interquartile_range, rms])\n",
    "    return features\n",
    "\n",
    "\n",
    "def preprocess_data(folder, label):\n",
    "    features = []\n",
    "    for file in os.listdir(folder):\n",
    "        if file.endswith(\".csv\"):\n",
    "            data = pd.read_csv(os.path.join(folder, file))\n",
    "            time_domain_features = calculate_time_domain_features(data)\n",
    "            features.append(time_domain_features + [label])\n",
    "    return features\n",
    "\n",
    "\n",
    "def basic_features(data):\n",
    "    return data[:, :24] \n",
    "\n",
    "def extended_features(data):\n",
    "    return data[:, :]"
   ],
   "id": "63d4216a20b2b4ac",
   "outputs": [],
   "execution_count": 10
  },
  {
   "metadata": {
    "ExecuteTime": {
     "end_time": "2024-04-21T11:36:26.681139Z",
     "start_time": "2024-04-21T11:36:15.809212Z"
    }
   },
   "cell_type": "code",
   "source": [
    "running_data = preprocess_data(\"data/running\", \"running\")\n",
    "idle_data = preprocess_data(\"data/idle\", \"idle\")\n",
    "stairs_data = preprocess_data(\"data/stairs\", \"stairs\")\n",
    "walking_data = preprocess_data(\"data/walking\", \"walking\")\n",
    "\n",
    "all_data = running_data + idle_data + stairs_data + walking_data\n",
    "\n",
    "df = pd.DataFrame(all_data)\n",
    "\n"
   ],
   "id": "925d621fdb0ca47",
   "outputs": [],
   "execution_count": 11
  },
  {
   "metadata": {
    "ExecuteTime": {
     "end_time": "2024-04-21T11:41:51.543439Z",
     "start_time": "2024-04-21T11:41:35.046391Z"
    }
   },
   "cell_type": "code",
   "source": [
    "X = df.iloc[:, :-1].values\n",
    "y = df.iloc[:, -1].values\n",
    "\n",
    "sc = StandardScaler()\n",
    "X = sc.fit_transform(X)\n",
    "\n",
    "\n",
    "def first_6_features(data):\n",
    "    return data[:, :6] \n",
    "\n",
    "def all_features(data):\n",
    "    return data[:, :] \n",
    "\n",
    "\n",
    "classifiers = {\n",
    "    'SVM': SVC(kernel='linear'),\n",
    "    'Random Forest': RandomForestClassifier(n_estimators=100)\n",
    "}\n",
    "\n",
    "\n",
    "feature_sets = {\n",
    "    'First 6 Features': first_6_features,\n",
    "    'All Features': all_features\n",
    "}\n",
    "\n",
    "\n",
    "for feature_name, feature_func in feature_sets.items():\n",
    "    for classifier_name, classifier in classifiers.items():\n",
    "        pipe = Pipeline([('scaler', StandardScaler()), ('classifier', classifier)])\n",
    "        scores = cross_val_score(pipe, feature_func(X), y, cv=10)\n",
    "        print(f\"{classifier_name} with {feature_name}: {np.mean(scores)}\")\n",
    "        "
   ],
   "id": "bef597100f0ca1d0",
   "outputs": [
    {
     "name": "stdout",
     "output_type": "stream",
     "text": [
      "SVM with First 6 Features: 0.9617733191055645\n",
      "Random Forest with First 6 Features: 0.9925722912609279\n",
      "SVM with All Features: 0.9899402338011589\n",
      "Random Forest with All Features: 0.998761849163321\n"
     ]
    }
   ],
   "execution_count": 16
  },
  {
   "metadata": {},
   "cell_type": "markdown",
   "source": [
    "We pre-processed the data to obtain a single DataFrame with calculated Time domain features.\n",
    "As we expected Random Forest classifier gives us better accuracy than SVM classifier.\n",
    "Moreover we gained better accuracy using all features than only first 6 features - probably the wrong set of features was used.\n",
    "In our case SVM classifier gives us much better results (~96%) than we expected (according to article ~65%) - perhaps it depends on the specifics of the input data."
   ],
   "id": "9aeb177b8e6f595b"
  }
 ],
 "metadata": {
  "kernelspec": {
   "display_name": "Python 3",
   "language": "python",
   "name": "python3"
  },
  "language_info": {
   "codemirror_mode": {
    "name": "ipython",
    "version": 2
   },
   "file_extension": ".py",
   "mimetype": "text/x-python",
   "name": "python",
   "nbconvert_exporter": "python",
   "pygments_lexer": "ipython2",
   "version": "2.7.6"
  }
 },
 "nbformat": 4,
 "nbformat_minor": 5
}
