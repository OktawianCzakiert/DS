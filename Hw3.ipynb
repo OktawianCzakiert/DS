{
 "cells": [
  {
   "cell_type": "markdown",
   "id": "86c5453c00a66769",
   "metadata": {},
   "source": "To zadanie domowe będzie w całości związane z regresją liniową i jej implementacją. Podzielmy więc nasze zadanie domowe na kilka części:"
  },
  {
   "cell_type": "code",
   "id": "73a5256fca68baa9",
   "metadata": {
    "ExecuteTime": {
     "end_time": "2024-04-11T17:49:08.107032Z",
     "start_time": "2024-04-11T17:49:08.092603Z"
    }
   },
   "source": [
    "import numpy as np\n",
    "from sklearn.linear_model import LinearRegression\n",
    "from sklearn.model_selection import train_test_split\n",
    "from sklearn.metrics import mean_squared_error\n",
    "import pandas as pd"
   ],
   "outputs": [],
   "execution_count": 48
  },
  {
   "cell_type": "markdown",
   "id": "e33aad9bb76ecba0",
   "metadata": {},
   "source": "1. Napisz funkcję hipotezy regresji liniowej w postaci wektorowej;"
  },
  {
   "cell_type": "code",
   "id": "34fa04e20a18225b",
   "metadata": {
    "ExecuteTime": {
     "end_time": "2024-04-11T16:55:13.684127Z",
     "start_time": "2024-04-11T16:55:13.677360Z"
    }
   },
   "source": [
    "def lin_regr(X,y,x_pred):\n",
    "    regr = LinearRegression().fit(X,y)\n",
    "    return regr.predict(x_pred)\n",
    "\n",
    "\n",
    "X = np.array([\n",
    "    [1,123],\n",
    "    [2,542],\n",
    "    [3,555],\n",
    "    [8,111],\n",
    "    [9,588]\n",
    "])\n",
    "\n",
    "y = np.dot(X, np.array([1,3])) + 9\n",
    "\n",
    "x_pred = np.array([[3, 9]])\n",
    "\n",
    "print(\"Predicted value: \",lin_regr(X,y,x_pred))\n"
   ],
   "outputs": [
    {
     "name": "stdout",
     "output_type": "stream",
     "text": [
      "Predicted value:  [39.]\n"
     ]
    }
   ],
   "execution_count": 24
  },
  {
   "cell_type": "markdown",
   "id": "b416c81e",
   "metadata": {},
   "source": "2. Utwórz funkcję obliczającą funkcję straty w postaci wektorowej;"
  },
  {
   "cell_type": "code",
   "id": "3ac25d40",
   "metadata": {
    "ExecuteTime": {
     "end_time": "2024-04-11T16:55:13.689531Z",
     "start_time": "2024-04-11T16:55:13.686180Z"
    }
   },
   "source": [
    "\n",
    "def loss_function(y_true, y_pred):\n",
    "    loss = mean_squared_error(y_true, y_pred)\n",
    "    return loss\n",
    "\n",
    "y_true = np.array([3, -0.5, 2, 7])\n",
    "y_pred = np.array([2.5, 0.0, 2, 8])\n",
    "\n",
    "\n",
    "loss = loss_function(y_true, y_pred)\n",
    "print(\"Mean squared error loss:\", loss)"
   ],
   "outputs": [
    {
     "name": "stdout",
     "output_type": "stream",
     "text": [
      "Mean squared error loss: 0.375\n"
     ]
    }
   ],
   "execution_count": 25
  },
  {
   "cell_type": "markdown",
   "id": "5302475e",
   "metadata": {},
   "source": "3. Zaimplementuj jeden krok zejścia gradientowego;"
  },
  {
   "cell_type": "code",
   "id": "41db878b",
   "metadata": {
    "ExecuteTime": {
     "end_time": "2024-04-11T17:18:44.791731Z",
     "start_time": "2024-04-11T17:18:44.774060Z"
    }
   },
   "source": [
    "x_old = 0\n",
    "x_new = 6\n",
    "alpha = 0.01\n",
    "precision = 0.00001\n",
    "\n",
    "def  f_derivative ( x ): \n",
    "    return  5 * x ** 3 - 2 * x ** 2 + 3 * x +4\n",
    "\n",
    "while  abs(x_new - x_old) > precision: \n",
    "    x_old = x_new \n",
    "    x_new = x_old - alpha * f_derivative (x_old)\n",
    "\n",
    "print (\"The local minimum occurs at: \" , x_new)\n",
    "\n"
   ],
   "outputs": [
    {
     "name": "stdout",
     "output_type": "stream",
     "text": [
      "The local minimum occurs at:  -0.6356483932698452\n"
     ]
    }
   ],
   "execution_count": 31
  },
  {
   "metadata": {},
   "cell_type": "markdown",
   "source": "4. Znajdź najlepsze parametry w dla zbioru danych, pozwalające przewidzieć cenę domu w zależności od powierzchni, liczby łazienek i liczby sypialni;",
   "id": "bcf49ce0cb1364de"
  },
  {
   "metadata": {
    "ExecuteTime": {
     "end_time": "2024-04-11T19:26:37.302319Z",
     "start_time": "2024-04-11T19:26:37.223904Z"
    }
   },
   "cell_type": "code",
   "source": [
    "data = pd.read_csv(\"Housing.csv\")\n",
    "\n",
    "X = data[['area', 'bedrooms', 'bathrooms']]\n",
    "y = data['price']\n",
    "\n",
    "\n",
    "X_train, X_test, y_train, y_test = train_test_split(X, y, test_size = 0.3, random_state=42)\n",
    "\n",
    "linear_regr = LinearRegression().fit(X_train, y_train)\n",
    "print(\"Linear regr coef: \", linear_regr.coef_)\n",
    "print(\"Linear regr intercept: \", linear_regr.intercept_)\n"
   ],
   "id": "aee8a5438db61f67",
   "outputs": [
    {
     "name": "stdout",
     "output_type": "stream",
     "text": [
      "Score:  0.44736815556478504\n",
      "Coef:  [3.71450579e+02 3.74297346e+05 1.40247297e+06]\n",
      "Intercept:  -20291.08854601346\n"
     ]
    }
   ],
   "execution_count": 67
  },
  {
   "metadata": {},
   "cell_type": "markdown",
   "source": "",
   "id": "730e8c57727bc7fe"
  },
  {
   "metadata": {},
   "cell_type": "markdown",
   "source": "5. Znajdź te same parametry za pomocą rozwiązania analitycznego;",
   "id": "da88c3928ede5b80"
  },
  {
   "metadata": {
    "ExecuteTime": {
     "end_time": "2024-04-11T20:24:55.733226Z",
     "start_time": "2024-04-11T20:24:55.714738Z"
    }
   },
   "cell_type": "code",
   "source": [
    "X_train_ext = np.c_[np.ones(X_train.shape[0]), X_train]\n",
    "beta = np.linalg.inv(X_train_ext.T @ X_train_ext) @ X_train_ext.T @ y_train\n",
    "\n",
    "intercept = beta[0]\n",
    "coef = beta[1:]\n",
    "\n",
    "print(\"Analytical intercept:\", intercept)\n",
    "print(\"Analytical coef:\", coef)"
   ],
   "id": "8f8a5ca48a8177dd",
   "outputs": [
    {
     "name": "stdout",
     "output_type": "stream",
     "text": [
      "Intercept: -20291.08854599932\n",
      "Coef: [3.71450579e+02 3.74297346e+05 1.40247297e+06]\n"
     ]
    }
   ],
   "execution_count": 77
  },
  {
   "metadata": {},
   "cell_type": "markdown",
   "source": "6. Porównaj wyniki.",
   "id": "cdee4a90c67f7c05"
  },
  {
   "metadata": {
    "ExecuteTime": {
     "end_time": "2024-04-11T20:27:30.245685Z",
     "start_time": "2024-04-11T20:27:30.237953Z"
    }
   },
   "cell_type": "code",
   "source": [
    "print(\"Diff_coef :\", linear_regr.coef_ - coef)\n",
    "print(\"Diff intercept: \", linear_regr.intercept_ - intercept)"
   ],
   "id": "eedfe9248e0e0b48",
   "outputs": [
    {
     "name": "stdout",
     "output_type": "stream",
     "text": [
      "Diff_coef : [1.08002496e-12 1.45519152e-09 1.62981451e-09]\n",
      "Diff intercept:  -1.4140823623165488e-08\n"
     ]
    }
   ],
   "execution_count": 78
  },
  {
   "metadata": {},
   "cell_type": "markdown",
   "source": "Wyniki zbieżne",
   "id": "4e9ffaeabb96410d"
  },
  {
   "metadata": {},
   "cell_type": "code",
   "outputs": [],
   "execution_count": null,
   "source": "",
   "id": "c38700b08eeec63c"
  }
 ],
 "metadata": {
  "kernelspec": {
   "display_name": "Python 3 (ipykernel)",
   "language": "python",
   "name": "python3"
  },
  "language_info": {
   "codemirror_mode": {
    "name": "ipython",
    "version": 3
   },
   "file_extension": ".py",
   "mimetype": "text/x-python",
   "name": "python",
   "nbconvert_exporter": "python",
   "pygments_lexer": "ipython3",
   "version": "3.11.5"
  }
 },
 "nbformat": 4,
 "nbformat_minor": 5
}
