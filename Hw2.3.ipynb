{
 "cells": [
  {
   "metadata": {},
   "cell_type": "markdown",
   "source": [
    "Część trzecia: Analiza zbioru danych za pomocą Kaggle.com\n",
    "W tej części zadania domowego zagłębimy się jeszcze bardziej w bibliotekę pandas i przyjrzymy się bardziej zaawansowanym funkcjom.\n",
    "\n",
    "W tym ćwiczeniu wykorzystamy dane z 50 najlepiej sprzedających się książek na Amazon w okresie 11 lat (od 2009 do 2019 roku). Zbiór danych jest publicznie dostępny na stronie Kaggle.com. Pobierz plik csv z linku i przenieś go do tego samego katalogu, co Twój notebook roboczy (dla wygody). Następnie przejdź do zadania.\n",
    "\n",
    "Aby ukończyć tę część zadania domowego, trzeba będzie nie tylko napisać kod, ale także odpowiedzieć na związane z nim pytania. Jeśli zobaczysz pogrubione pytanie, zaznacz je, wklej do pliku i odpowiedz na nie.\n",
    "\n",
    "Na przykład:\n",
    "\n",
    "Jaka biblioteka jest używana do pracy z ramkami danych w Pythonie? Odpowiedź: pandas\n",
    "\n",
    "Do wykonania:\n",
    "\n",
    "Odczytaj plik csv (użyj funkcji read_csv)\n",
    "Wyświetl pierwsze pięć wierszy (użyj funkcji head)\n",
    "Wyświetl wymiary zbioru danych (użyj atrybutu shape)\n",
    "Odpowiedź: O ilu książkach przechowywane są dane w zbiorze danych?\n",
    "Dla każdej z książek dostępnych jest 7 zmiennych (kolumn). Przyjrzyjmy się im bliżej:\n",
    "\n",
    "Name — nazwa książki\n",
    "\n",
    "Author — autor\n",
    "\n",
    "User Rating — ocena użytkownika (w 5-stopniowej skali)\n",
    "\n",
    "Reviews — liczba recenzji\n",
    "\n",
    "Price — cena (w dolarach na 2020 rok)\n",
    "\n",
    "Year — rok, w którym książka znalazła się w rankingu Top 50\n",
    "\n",
    "Genre — gatunek\n",
    "\n",
    "Aby uprościć Ci pracę, zmieńmy nieco nazwy zmiennych. Jak widzisz, wszystkie nazwy zaczynają się wielką literą, a jedna z nich zawiera nawet spację. Jest to bardzo niepożądane i może być dość niewygodne. Zmieńmy wielkość liter na małe, a spację zastąpmy podkreśleniem (snake_style). Jednocześnie poznasz przydatny atrybut ramki danych — columns (możesz po prostu przypisać listę nowych nazw do tego atrybutu)\n",
    "\n",
    "df.columns = ['name', 'author', 'user_rating', 'reviews', 'price', 'year', 'genre']\n",
    "\n",
    "\n",
    "Pierwotne badanie danych\n",
    "Sprawdź, czy wszystkie wiersze zawierają wystarczającą ilość danych: wypisz liczbę pustych miejsc (na) w każdej kolumnie (użyj funkcji isna i sum).\n",
    "Odpowiedź: Czy są jakieś zmienne z brakującymi wartościami? (Таk / Nie)\n",
    "Sprawdź unikalne wartości w kolumnie genre (użyj funkcji unique).\n",
    "Odpowiedź: Jakie są unikalne gatunki?\n",
    "Teraz spójrz na rozkład cen: zbuduj wykres (użyj kind='hist')\n",
    "Określ maksymalną, minimalną, średnią i medianową cenę (użyj funkcji max, min, mean, median).\n",
    "Odpowiedź: Cena maksymalna?\n",
    "Odpowiedź: Cena minimalna?\n",
    "Odpowiedź: Średnia cena?\n",
    "Odpowiedź: Mediana ceny?\n",
    "Wyszukiwanie i sortowanie danych\n",
    "Odpowiedź: Jaka jest najwyższa ocena w zbiorze danych? Odpowiedź:\n",
    "Odpowiedź: Ile książek ma taką ocenę? Odpowiedź:\n",
    "Odpowiedź: Która książka ma najwięcej recenzji? Odpowiedź:\n",
    "Odpowiedź: Która z książek z Top 50 w 2015 roku jest najdroższa (możesz użyć pośredniej ramki danych)? Odpowiedź:\n",
    "Odpowiedź: Ile książek z gatunku Fiction znalazło się w Top 50 w 2010 roku (użyj &)? Odpowiedź:\n",
    "Odpowiedź: Ile książek z oceną 4,9 znalazło się w rankingu w 2010 i 2011 roku (użyj | lub funkcji isin)? Odpowiedź:\n",
    "I na koniec posortujmy rosnąco według ceny wszystkie książki, które znalazły się w rankingu w 2015 roku i kosztowały mniej niż 8 dolarów (użyj funkcji sort_values).\n",
    "Odpowiedź: Która książka jest ostatnia na posortowanej liście? Odpowiedź:\n",
    "Agregacja danych i łączenie tabel\n",
    "Ostatnia część tego zadania domowego obejmuje bardziej zaawansowane funkcje. Ale nie martw się, pandas sprawia, że wszystkie operacje są proste i nieskomplikowane.\n",
    "\n",
    "Najpierw przyjrzyjmy się maksymalnym i minimalnym cenom dla każdego gatunku (użyj funkcji groupby i agg oraz max i min, aby obliczyć wartości minimalne i maksymalne). Nie wybieraj wszystkich kolumn, tylko te, których potrzebujesz.\n",
    "Odpowiedź: Maksymalna cena dla gatunku Fiction: Odpowiedź\n",
    "Odpowiedź: Minimalna cena dla gatunku Fiction: Odpowiedź\n",
    "Odpowiedź: Maksymalna cena dla gatunku Non Fiction: Odpowiedź\n",
    "Odpowiedź: Minimalna cena dla gatunku Non Fiction: Odpowiedź\n",
    "Teraz utwórz nową ramkę danych, która będzie przechowywać liczbę książek dla każdego autora (użyj funkcji groupby i agg, następnie użyj count, aby policzyć liczbę). Nie bierz wszystkich kolumn, wybierz tylko te niezbędne.\n",
    "Odpowiedź: Jaki jest wymiar tabeli? Odpowiedź:\n",
    "Odpowiedź: Który autor ma najwięcej książek? Odpowiedź:\n",
    "Odpowiedź: Ile jest książek tego autora? Odpowiedź:\n",
    "Teraz utwórz drugą ramkę danych, która będzie zawierać średnią ocenę dla każdego autora (użyj funkcji groupby i agg, następnie użyj mean do obliczenia średniej). Nie bierz wszystkich kolumn, wybierz tylko te niezbędne.\n",
    "Odpowiedź: Który autor ma najniższą średnią ocenę? Odpowiedź:\n",
    "Odpowiedź: Jaka jest średnia ocena tego autora? Odpowiedź:\n",
    "Połącz dwie ostatnie ramki danych, aby zobaczyć liczbę książek i średnią ocenę dla każdego autora (użyj funkcji concat z axis=1). Zapisz wynik do zmiennej.\n",
    "Posortuj ramki danych według rosnącej liczby książek i rosnącej oceny (użyj funkcji sort_values).\n",
    "Odpowiedź: Który autor jest pierwszy na liście?\n",
    "Zadanie domowe prześlij jako plik Jupyter Hw2.3.ipynb"
   ],
   "id": "f858cffb8a79c136"
  },
  {
   "metadata": {
    "ExecuteTime": {
     "end_time": "2024-04-07T22:26:48.062566Z",
     "start_time": "2024-04-07T22:26:48.028449Z"
    }
   },
   "cell_type": "code",
   "source": [
    "import pandas as pd\n",
    "import numpy as np\n",
    "import matplotlib.pyplot as plt\n",
    "import seaborn as sns\n",
    "\n",
    "%matplotlib inline"
   ],
   "id": "c6bd6a1136f78491",
   "outputs": [],
   "execution_count": 1
  },
  {
   "metadata": {
    "ExecuteTime": {
     "end_time": "2024-04-07T22:28:21.936736Z",
     "start_time": "2024-04-07T22:28:21.926486Z"
    }
   },
   "cell_type": "code",
   "source": "data = pd.read_csv('bestsellers with categories.csv')",
   "id": "255ead6baedd4d48",
   "outputs": [],
   "execution_count": 3
  },
  {
   "metadata": {
    "ExecuteTime": {
     "end_time": "2024-04-07T21:37:27.382797Z",
     "start_time": "2024-04-07T21:37:27.375915Z"
    }
   },
   "cell_type": "code",
   "source": "data.head()",
   "id": "e0a323640884c43d",
   "outputs": [
    {
     "data": {
      "text/plain": [
       "                                                Name  \\\n",
       "0                      10-Day Green Smoothie Cleanse   \n",
       "1                                  11/22/63: A Novel   \n",
       "2            12 Rules for Life: An Antidote to Chaos   \n",
       "3                             1984 (Signet Classics)   \n",
       "4  5,000 Awesome Facts (About Everything!) (Natio...   \n",
       "\n",
       "                     Author  User Rating  Reviews  Price  Year        Genre  \n",
       "0                  JJ Smith          4.7    17350      8  2016  Non Fiction  \n",
       "1              Stephen King          4.6     2052     22  2011      Fiction  \n",
       "2        Jordan B. Peterson          4.7    18979     15  2018  Non Fiction  \n",
       "3             George Orwell          4.7    21424      6  2017      Fiction  \n",
       "4  National Geographic Kids          4.8     7665     12  2019  Non Fiction  "
      ],
      "text/html": [
       "<div>\n",
       "<style scoped>\n",
       "    .dataframe tbody tr th:only-of-type {\n",
       "        vertical-align: middle;\n",
       "    }\n",
       "\n",
       "    .dataframe tbody tr th {\n",
       "        vertical-align: top;\n",
       "    }\n",
       "\n",
       "    .dataframe thead th {\n",
       "        text-align: right;\n",
       "    }\n",
       "</style>\n",
       "<table border=\"1\" class=\"dataframe\">\n",
       "  <thead>\n",
       "    <tr style=\"text-align: right;\">\n",
       "      <th></th>\n",
       "      <th>Name</th>\n",
       "      <th>Author</th>\n",
       "      <th>User Rating</th>\n",
       "      <th>Reviews</th>\n",
       "      <th>Price</th>\n",
       "      <th>Year</th>\n",
       "      <th>Genre</th>\n",
       "    </tr>\n",
       "  </thead>\n",
       "  <tbody>\n",
       "    <tr>\n",
       "      <th>0</th>\n",
       "      <td>10-Day Green Smoothie Cleanse</td>\n",
       "      <td>JJ Smith</td>\n",
       "      <td>4.7</td>\n",
       "      <td>17350</td>\n",
       "      <td>8</td>\n",
       "      <td>2016</td>\n",
       "      <td>Non Fiction</td>\n",
       "    </tr>\n",
       "    <tr>\n",
       "      <th>1</th>\n",
       "      <td>11/22/63: A Novel</td>\n",
       "      <td>Stephen King</td>\n",
       "      <td>4.6</td>\n",
       "      <td>2052</td>\n",
       "      <td>22</td>\n",
       "      <td>2011</td>\n",
       "      <td>Fiction</td>\n",
       "    </tr>\n",
       "    <tr>\n",
       "      <th>2</th>\n",
       "      <td>12 Rules for Life: An Antidote to Chaos</td>\n",
       "      <td>Jordan B. Peterson</td>\n",
       "      <td>4.7</td>\n",
       "      <td>18979</td>\n",
       "      <td>15</td>\n",
       "      <td>2018</td>\n",
       "      <td>Non Fiction</td>\n",
       "    </tr>\n",
       "    <tr>\n",
       "      <th>3</th>\n",
       "      <td>1984 (Signet Classics)</td>\n",
       "      <td>George Orwell</td>\n",
       "      <td>4.7</td>\n",
       "      <td>21424</td>\n",
       "      <td>6</td>\n",
       "      <td>2017</td>\n",
       "      <td>Fiction</td>\n",
       "    </tr>\n",
       "    <tr>\n",
       "      <th>4</th>\n",
       "      <td>5,000 Awesome Facts (About Everything!) (Natio...</td>\n",
       "      <td>National Geographic Kids</td>\n",
       "      <td>4.8</td>\n",
       "      <td>7665</td>\n",
       "      <td>12</td>\n",
       "      <td>2019</td>\n",
       "      <td>Non Fiction</td>\n",
       "    </tr>\n",
       "  </tbody>\n",
       "</table>\n",
       "</div>"
      ]
     },
     "execution_count": 107,
     "metadata": {},
     "output_type": "execute_result"
    }
   ],
   "execution_count": 107
  },
  {
   "metadata": {
    "ExecuteTime": {
     "end_time": "2024-04-07T21:37:27.421425Z",
     "start_time": "2024-04-07T21:37:27.417390Z"
    }
   },
   "cell_type": "code",
   "source": "data.shape",
   "id": "8a6024c077e568a7",
   "outputs": [
    {
     "data": {
      "text/plain": [
       "(550, 7)"
      ]
     },
     "execution_count": 108,
     "metadata": {},
     "output_type": "execute_result"
    }
   ],
   "execution_count": 108
  },
  {
   "metadata": {},
   "cell_type": "markdown",
   "source": "Odpowiedź: O ilu książkach przechowywane są dane w zbiorze danych? - O 550 książkach",
   "id": "73babb7575c97adc"
  },
  {
   "metadata": {
    "ExecuteTime": {
     "end_time": "2024-04-07T22:29:43.192995Z",
     "start_time": "2024-04-07T22:29:43.184081Z"
    }
   },
   "cell_type": "code",
   "source": [
    "data.columns = ['name', 'author', 'user_rating', 'reviews', 'price', 'year', 'genre']\n",
    "data.head()"
   ],
   "id": "2c536080cae273d7",
   "outputs": [
    {
     "data": {
      "text/plain": [
       "                                                name  \\\n",
       "0                      10-Day Green Smoothie Cleanse   \n",
       "1                                  11/22/63: A Novel   \n",
       "2            12 Rules for Life: An Antidote to Chaos   \n",
       "3                             1984 (Signet Classics)   \n",
       "4  5,000 Awesome Facts (About Everything!) (Natio...   \n",
       "\n",
       "                     author  user_rating  reviews  price  year        genre  \n",
       "0                  JJ Smith          4.7    17350      8  2016  Non Fiction  \n",
       "1              Stephen King          4.6     2052     22  2011      Fiction  \n",
       "2        Jordan B. Peterson          4.7    18979     15  2018  Non Fiction  \n",
       "3             George Orwell          4.7    21424      6  2017      Fiction  \n",
       "4  National Geographic Kids          4.8     7665     12  2019  Non Fiction  "
      ],
      "text/html": [
       "<div>\n",
       "<style scoped>\n",
       "    .dataframe tbody tr th:only-of-type {\n",
       "        vertical-align: middle;\n",
       "    }\n",
       "\n",
       "    .dataframe tbody tr th {\n",
       "        vertical-align: top;\n",
       "    }\n",
       "\n",
       "    .dataframe thead th {\n",
       "        text-align: right;\n",
       "    }\n",
       "</style>\n",
       "<table border=\"1\" class=\"dataframe\">\n",
       "  <thead>\n",
       "    <tr style=\"text-align: right;\">\n",
       "      <th></th>\n",
       "      <th>name</th>\n",
       "      <th>author</th>\n",
       "      <th>user_rating</th>\n",
       "      <th>reviews</th>\n",
       "      <th>price</th>\n",
       "      <th>year</th>\n",
       "      <th>genre</th>\n",
       "    </tr>\n",
       "  </thead>\n",
       "  <tbody>\n",
       "    <tr>\n",
       "      <th>0</th>\n",
       "      <td>10-Day Green Smoothie Cleanse</td>\n",
       "      <td>JJ Smith</td>\n",
       "      <td>4.7</td>\n",
       "      <td>17350</td>\n",
       "      <td>8</td>\n",
       "      <td>2016</td>\n",
       "      <td>Non Fiction</td>\n",
       "    </tr>\n",
       "    <tr>\n",
       "      <th>1</th>\n",
       "      <td>11/22/63: A Novel</td>\n",
       "      <td>Stephen King</td>\n",
       "      <td>4.6</td>\n",
       "      <td>2052</td>\n",
       "      <td>22</td>\n",
       "      <td>2011</td>\n",
       "      <td>Fiction</td>\n",
       "    </tr>\n",
       "    <tr>\n",
       "      <th>2</th>\n",
       "      <td>12 Rules for Life: An Antidote to Chaos</td>\n",
       "      <td>Jordan B. Peterson</td>\n",
       "      <td>4.7</td>\n",
       "      <td>18979</td>\n",
       "      <td>15</td>\n",
       "      <td>2018</td>\n",
       "      <td>Non Fiction</td>\n",
       "    </tr>\n",
       "    <tr>\n",
       "      <th>3</th>\n",
       "      <td>1984 (Signet Classics)</td>\n",
       "      <td>George Orwell</td>\n",
       "      <td>4.7</td>\n",
       "      <td>21424</td>\n",
       "      <td>6</td>\n",
       "      <td>2017</td>\n",
       "      <td>Fiction</td>\n",
       "    </tr>\n",
       "    <tr>\n",
       "      <th>4</th>\n",
       "      <td>5,000 Awesome Facts (About Everything!) (Natio...</td>\n",
       "      <td>National Geographic Kids</td>\n",
       "      <td>4.8</td>\n",
       "      <td>7665</td>\n",
       "      <td>12</td>\n",
       "      <td>2019</td>\n",
       "      <td>Non Fiction</td>\n",
       "    </tr>\n",
       "  </tbody>\n",
       "</table>\n",
       "</div>"
      ]
     },
     "execution_count": 7,
     "metadata": {},
     "output_type": "execute_result"
    }
   ],
   "execution_count": 7
  },
  {
   "metadata": {
    "ExecuteTime": {
     "end_time": "2024-04-07T22:45:00.165582Z",
     "start_time": "2024-04-07T22:44:59.931890Z"
    }
   },
   "cell_type": "code",
   "source": "sns.scatterplot(x='user_rating', y='price', data=data)\n",
   "id": "96a4333e38e1d6e8",
   "outputs": [
    {
     "data": {
      "text/plain": [
       "<Axes: xlabel='user_rating', ylabel='price'>"
      ]
     },
     "execution_count": 17,
     "metadata": {},
     "output_type": "execute_result"
    },
    {
     "data": {
      "text/plain": [
       "<Figure size 640x480 with 1 Axes>"
      ],
      "image/png": "[encoded data removed]"
     },
     "metadata": {},
     "output_type": "display_data"
    }
   ],
   "execution_count": 17
  },
  {
   "metadata": {
    "ExecuteTime": {
     "end_time": "2024-04-07T22:45:25.769554Z",
     "start_time": "2024-04-07T22:45:25.332600Z"
    }
   },
   "cell_type": "code",
   "source": "sns.countplot(x='user_rating', hue='genre', data=data)",
   "id": "cd2555ed7c20f8e9",
   "outputs": [
    {
     "data": {
      "text/plain": [
       "<Axes: xlabel='user_rating', ylabel='count'>"
      ]
     },
     "execution_count": 18,
     "metadata": {},
     "output_type": "execute_result"
    },
    {
     "data": {
      "text/plain": [
       "<Figure size 640x480 with 1 Axes>"
      ],
      "image/png": "[encoded data removed]"
     },
     "metadata": {},
     "output_type": "display_data"
    }
   ],
   "execution_count": 18
  },
  {
   "metadata": {},
   "cell_type": "markdown",
   "source": "Pierwotne badanie danych",
   "id": "d3dc1e934d60771"
  },
  {
   "metadata": {
    "ExecuteTime": {
     "end_time": "2024-04-07T21:37:27.489601Z",
     "start_time": "2024-04-07T21:37:27.484578Z"
    }
   },
   "cell_type": "code",
   "source": [
    "empty_counts = data.isna().sum()\n",
    "print(\"Empty counts: \\n\", empty_counts)"
   ],
   "id": "61acf20c4fcd64",
   "outputs": [
    {
     "name": "stdout",
     "output_type": "stream",
     "text": [
      "Empty counts: \n",
      " name           0\n",
      "author         0\n",
      "user_rating    0\n",
      "reviews        0\n",
      "price          0\n",
      "year           0\n",
      "genre          0\n",
      "dtype: int64\n"
     ]
    }
   ],
   "execution_count": 110
  },
  {
   "metadata": {},
   "cell_type": "markdown",
   "source": "Odpowiedź: Czy są jakieś zmienne z brakującymi wartościami? (Таk / Nie) - NIE",
   "id": "7a43623d10e243f4"
  },
  {
   "metadata": {
    "ExecuteTime": {
     "end_time": "2024-04-07T21:37:27.550994Z",
     "start_time": "2024-04-07T21:37:27.547300Z"
    }
   },
   "cell_type": "code",
   "source": [
    "unique_genres = data['genre'].unique()\n",
    "print(\"Unique genres: \\n\", unique_genres)"
   ],
   "id": "38ff6e812e73e214",
   "outputs": [
    {
     "name": "stdout",
     "output_type": "stream",
     "text": [
      "Unique genres: \n",
      " ['Non Fiction' 'Fiction']\n"
     ]
    }
   ],
   "execution_count": 111
  },
  {
   "metadata": {
    "ExecuteTime": {
     "end_time": "2024-04-07T22:05:05.268032Z",
     "start_time": "2024-04-07T22:05:05.069786Z"
    }
   },
   "cell_type": "code",
   "source": [
    "data['price'].plot(kind='hist', bins=10, edgecolor='black', color='yellow')\n",
    "\n",
    "plt.title('Prices of books')\n",
    "plt.xlabel('Price')\n",
    "plt.ylabel('No. of books')\n",
    "\n",
    "plt.show()"
   ],
   "id": "197d30e33eba60c9",
   "outputs": [
    {
     "data": {
      "text/plain": [
       "<Figure size 640x480 with 1 Axes>"
      ],
      "image/png": "[encoded data removed]"
     },
     "metadata": {},
     "output_type": "display_data"
    }
   ],
   "execution_count": 144
  },
  {
   "metadata": {
    "ExecuteTime": {
     "end_time": "2024-04-07T21:37:28.130974Z",
     "start_time": "2024-04-07T21:37:28.114926Z"
    }
   },
   "cell_type": "code",
   "source": [
    "print(\"Max price: \", np.max(data['price']))\n",
    "print(\"Min price: \", np.min(data['price']))\n",
    "print(\"Average price: \", np.mean(data['price']))\n",
    "print(\"Median price: \", np.median(data['price']))"
   ],
   "id": "eb865dbcbc90f112",
   "outputs": [
    {
     "name": "stdout",
     "output_type": "stream",
     "text": [
      "Max price:  105\n",
      "Min price:  0\n",
      "Average price:  13.1\n",
      "Median price:  11.0\n"
     ]
    }
   ],
   "execution_count": 113
  },
  {
   "metadata": {},
   "cell_type": "markdown",
   "source": "Wyszukiwanie i sortowanie danych",
   "id": "592f4a64a43b8c2d"
  },
  {
   "metadata": {
    "ExecuteTime": {
     "end_time": "2024-04-07T21:37:28.234672Z",
     "start_time": "2024-04-07T21:37:28.228409Z"
    }
   },
   "cell_type": "code",
   "source": [
    "highest_rating = data['user_rating'].max()\n",
    "print(\"Highest rating: \", highest_rating)\n",
    "no_of_books_with_highest_rating = (data['user_rating']==highest_rating).sum()\n",
    "print(\"No. of books with highest rating: \", no_of_books_with_highest_rating)"
   ],
   "id": "2ab6271e76f52374",
   "outputs": [
    {
     "name": "stdout",
     "output_type": "stream",
     "text": [
      "Highest rating:  4.9\n",
      "No. of books with highest rating:  52\n"
     ]
    }
   ],
   "execution_count": 114
  },
  {
   "metadata": {
    "ExecuteTime": {
     "end_time": "2024-04-07T21:37:28.363282Z",
     "start_time": "2024-04-07T21:37:28.358700Z"
    }
   },
   "cell_type": "code",
   "source": [
    "highest_no_of_reviews = data['reviews'].max()\n",
    "index = data['reviews'].idxmax()\n",
    "print(f\"Book with highest number of reviews ({highest_no_of_reviews}): \", data.loc[index, 'name'])"
   ],
   "id": "80abddfa907742dc",
   "outputs": [
    {
     "name": "stdout",
     "output_type": "stream",
     "text": [
      "Book with highest number of reviews (87841):  Where the Crawdads Sing\n"
     ]
    }
   ],
   "execution_count": 115
  },
  {
   "metadata": {
    "ExecuteTime": {
     "end_time": "2024-04-07T21:37:28.549888Z",
     "start_time": "2024-04-07T21:37:28.542508Z"
    }
   },
   "cell_type": "code",
   "source": [
    "top_50_in_2015 = data[data['year']==2015].head(50)\n",
    "index_most_expensive = top_50_in_2015['price'].idxmax()\n",
    "most_expensive_book = top_50_in_2015.loc[index_most_expensive, 'name']\n",
    "print(\"Most expensive book from TOP 50 in 2015: \", most_expensive_book)"
   ],
   "id": "8b34f370332d8b8c",
   "outputs": [
    {
     "name": "stdout",
     "output_type": "stream",
     "text": [
      "Most expensive book from TOP 50 in 2015:  Publication Manual of the American Psychological Association, 6th Edition\n"
     ]
    }
   ],
   "execution_count": 116
  },
  {
   "metadata": {
    "ExecuteTime": {
     "end_time": "2024-04-07T21:37:28.910870Z",
     "start_time": "2024-04-07T21:37:28.901401Z"
    }
   },
   "cell_type": "code",
   "source": [
    "top_50_in_2010 = data[data['year']==2010].head(50)\n",
    "no_of_fiction_books = (top_50_in_2010['genre']=='Fiction').sum()\n",
    "print(\"No. of fiction books in TOP 50 in 2010: \", no_of_fiction_books)"
   ],
   "id": "b4a9b7efbdf4fb7",
   "outputs": [
    {
     "name": "stdout",
     "output_type": "stream",
     "text": [
      "No. of fiction books in TOP 50 in 2010:  20\n"
     ]
    }
   ],
   "execution_count": 117
  },
  {
   "metadata": {
    "ExecuteTime": {
     "end_time": "2024-04-07T21:37:28.960457Z",
     "start_time": "2024-04-07T21:37:28.954510Z"
    }
   },
   "cell_type": "code",
   "source": [
    "books_4_9_in_2010_2011 = data[((data['year']==2010) | (data['year']==2011)) & (data['user_rating']==4.9)]\n",
    "no_of_books = len(books_4_9_in_2010_2011)\n",
    "print(\"No. of books with rating 4.9 in 2010 and 2011: \", no_of_books)"
   ],
   "id": "b576c7e1529c5c39",
   "outputs": [
    {
     "name": "stdout",
     "output_type": "stream",
     "text": [
      "No. of books with rating 4.9 in 2010 and 2011:  1\n"
     ]
    }
   ],
   "execution_count": 118
  },
  {
   "metadata": {
    "ExecuteTime": {
     "end_time": "2024-04-07T21:37:28.997380Z",
     "start_time": "2024-04-07T21:37:28.986735Z"
    }
   },
   "cell_type": "code",
   "source": [
    "books_2015_under_8_dol = data[(data['year']==2015) & (data['price']<8)]\n",
    "books_2015_under_8_dol_sorted = books_2015_under_8_dol.sort_values(by='price', ascending=True)\n",
    "print(\"Last book on sorted list: \\n\", books_2015_under_8_dol_sorted.tail(1))"
   ],
   "id": "336b1d213f4d193a",
   "outputs": [
    {
     "name": "stdout",
     "output_type": "stream",
     "text": [
      "Last book on sorted list: \n",
      "                                       name       author  user_rating  reviews  \\\n",
      "253  Old School (Diary of a Wimpy Kid #10)  Jeff Kinney          4.8     6169   \n",
      "\n",
      "     price  year    genre  \n",
      "253      7  2015  Fiction  \n"
     ]
    }
   ],
   "execution_count": 119
  },
  {
   "metadata": {},
   "cell_type": "markdown",
   "source": "Agregacja danych i łączenie tabel",
   "id": "8a6010a86b8cd56c"
  },
  {
   "metadata": {
    "ExecuteTime": {
     "end_time": "2024-04-07T21:37:29.097121Z",
     "start_time": "2024-04-07T21:37:29.078968Z"
    }
   },
   "cell_type": "code",
   "source": [
    "genre_price_stats = data.groupby('genre')['price'].agg(['min', 'max'])\n",
    "print(genre_price_stats)\n",
    "\n",
    "max_fiction_price = genre_price_stats.loc['Fiction', 'max']\n",
    "print(\"Max price for Fiction genre: \", max_fiction_price)\n",
    "\n",
    "min_fiction_price = genre_price_stats.loc['Fiction', 'min']\n",
    "print(\"Min price for Fiction genre: \", min_fiction_price)\n",
    "\n",
    "max_non_fiction_price = genre_price_stats.loc['Non Fiction', 'max']\n",
    "print(\"Max price for Non Fiction genre: \", max_non_fiction_price)\n",
    "\n",
    "min_non_fiction_price = genre_price_stats.loc['Non Fiction', 'min']\n",
    "print(\"Min price for Non Fiction genre: \", min_non_fiction_price)"
   ],
   "id": "be9ebef48b652275",
   "outputs": [
    {
     "name": "stdout",
     "output_type": "stream",
     "text": [
      "             min  max\n",
      "genre                \n",
      "Fiction        0   82\n",
      "Non Fiction    0  105\n",
      "Max price for Fiction genre:  82\n",
      "Min price for Fiction genre:  0\n",
      "Max price for Non Fiction genre:  105\n",
      "Min price for Non Fiction genre:  0\n"
     ]
    }
   ],
   "execution_count": 120
  },
  {
   "metadata": {
    "ExecuteTime": {
     "end_time": "2024-04-07T21:38:39.956461Z",
     "start_time": "2024-04-07T21:38:39.942507Z"
    }
   },
   "cell_type": "code",
   "source": [
    "author_books_count = data.groupby('author')['author'].agg('count')\n",
    "author_books_count.columns = ['no_of_books']\n",
    "print(author_books_count)"
   ],
   "id": "251684b46d02395",
   "outputs": [
    {
     "name": "stdout",
     "output_type": "stream",
     "text": [
      "author\n",
      "Abraham Verghese              2\n",
      "Adam Gasiewski                1\n",
      "Adam Mansbach                 1\n",
      "Adir Levy                     1\n",
      "Admiral William H. McRaven    1\n",
      "                             ..\n",
      "Walter Isaacson               3\n",
      "William Davis                 2\n",
      "William P. Young              2\n",
      "Wizards RPG Team              3\n",
      "Zhi Gang Sha                  2\n",
      "Name: author, Length: 248, dtype: int64\n"
     ]
    }
   ],
   "execution_count": 130
  },
  {
   "metadata": {
    "ExecuteTime": {
     "end_time": "2024-04-07T21:37:29.329818Z",
     "start_time": "2024-04-07T21:37:29.324584Z"
    }
   },
   "cell_type": "code",
   "source": "author_books_count.shape",
   "id": "ea825bcf4fbdf9ff",
   "outputs": [
    {
     "data": {
      "text/plain": [
       "(248,)"
      ]
     },
     "execution_count": 122,
     "metadata": {},
     "output_type": "execute_result"
    }
   ],
   "execution_count": 122
  },
  {
   "metadata": {
    "ExecuteTime": {
     "end_time": "2024-04-07T21:37:29.381936Z",
     "start_time": "2024-04-07T21:37:29.377650Z"
    }
   },
   "cell_type": "code",
   "source": [
    "author_with_the_most_books = author_books_count.idxmax()\n",
    "print(\"Author with most books: \", author_with_the_most_books)\n",
    "print(f\"{author_with_the_most_books} has \", author_books_count[author_with_the_most_books], \"books\")\n"
   ],
   "id": "8d66e7ccf93baa6",
   "outputs": [
    {
     "name": "stdout",
     "output_type": "stream",
     "text": [
      "Author with most books:  Jeff Kinney\n",
      "Jeff Kinney has  12 books\n"
     ]
    }
   ],
   "execution_count": 123
  },
  {
   "metadata": {
    "ExecuteTime": {
     "end_time": "2024-04-07T21:38:32.521505Z",
     "start_time": "2024-04-07T21:38:32.508722Z"
    }
   },
   "cell_type": "code",
   "source": [
    "author_books_mean = data.groupby('author')['user_rating'].agg('mean')\n",
    "author_books_count.columns = ['mean_rating']\n",
    "print(author_books_mean)"
   ],
   "id": "7ca8f56d15887f45",
   "outputs": [
    {
     "name": "stdout",
     "output_type": "stream",
     "text": [
      "author\n",
      "Abraham Verghese              4.600000\n",
      "Adam Gasiewski                4.400000\n",
      "Adam Mansbach                 4.800000\n",
      "Adir Levy                     4.800000\n",
      "Admiral William H. McRaven    4.700000\n",
      "                                ...   \n",
      "Walter Isaacson               4.566667\n",
      "William Davis                 4.400000\n",
      "William P. Young              4.600000\n",
      "Wizards RPG Team              4.800000\n",
      "Zhi Gang Sha                  4.600000\n",
      "Name: user_rating, Length: 248, dtype: float64\n"
     ]
    }
   ],
   "execution_count": 129
  },
  {
   "metadata": {
    "ExecuteTime": {
     "end_time": "2024-04-07T21:37:29.524383Z",
     "start_time": "2024-04-07T21:37:29.520049Z"
    }
   },
   "cell_type": "code",
   "source": [
    "author_with_the_lowest_mean_rating = author_books_mean.idxmin()\n",
    "the_lowest_mean_rating = author_books_mean.min()\n",
    "print(\"Author with the lowest rating: \", author_with_the_lowest_mean_rating)\n",
    "print(f\"The rating of {author_with_the_lowest_mean_rating}: \", the_lowest_mean_rating)"
   ],
   "id": "d928873019d15b47",
   "outputs": [
    {
     "name": "stdout",
     "output_type": "stream",
     "text": [
      "Author with the lowest rating:  Donna Tartt\n",
      "The rating of Donna Tartt:  3.9\n"
     ]
    }
   ],
   "execution_count": 125
  },
  {
   "metadata": {
    "ExecuteTime": {
     "end_time": "2024-04-07T21:40:03.604032Z",
     "start_time": "2024-04-07T21:40:03.588351Z"
    }
   },
   "cell_type": "code",
   "source": [
    "concated_authors = pd.concat([author_books_count, author_books_mean], axis=1)\n",
    "concated_authors.columns = ['no_of_books','mean_rating']\n",
    "print(concated_authors)"
   ],
   "id": "1756f726c09d390d",
   "outputs": [
    {
     "name": "stdout",
     "output_type": "stream",
     "text": [
      "                            no_of_books  mean_rating\n",
      "author                                              \n",
      "Abraham Verghese                      2     4.600000\n",
      "Adam Gasiewski                        1     4.400000\n",
      "Adam Mansbach                         1     4.800000\n",
      "Adir Levy                             1     4.800000\n",
      "Admiral William H. McRaven            1     4.700000\n",
      "...                                 ...          ...\n",
      "Walter Isaacson                       3     4.566667\n",
      "William Davis                         2     4.400000\n",
      "William P. Young                      2     4.600000\n",
      "Wizards RPG Team                      3     4.800000\n",
      "Zhi Gang Sha                          2     4.600000\n",
      "\n",
      "[248 rows x 2 columns]\n"
     ]
    }
   ],
   "execution_count": 133
  },
  {
   "metadata": {
    "ExecuteTime": {
     "end_time": "2024-04-07T21:43:16.546203Z",
     "start_time": "2024-04-07T21:43:16.532799Z"
    }
   },
   "cell_type": "code",
   "source": [
    "sorted_concated_authors = concated_authors.sort_values(by=['no_of_books','mean_rating'], ascending=[True, True])\n",
    "print(sorted_concated_authors)\n",
    "print(\"\\nFirst author on sorted list: \", sorted_concated_authors.head(1))"
   ],
   "id": "cf3d1bff84390898",
   "outputs": [
    {
     "name": "stdout",
     "output_type": "stream",
     "text": [
      "                                    no_of_books  mean_rating\n",
      "author                                                      \n",
      "Muriel Barbery                                1     4.000000\n",
      "Chris Cleave                                  1     4.100000\n",
      "Ian K. Smith M.D.                             1     4.100000\n",
      "Pierre Dukan                                  1     4.100000\n",
      "Elizabeth Strout                              1     4.200000\n",
      "...                                         ...          ...\n",
      "American Psychological Association           10     4.500000\n",
      "Suzanne Collins                              11     4.663636\n",
      "Gary Chapman                                 11     4.736364\n",
      "Rick Riordan                                 11     4.772727\n",
      "Jeff Kinney                                  12     4.800000\n",
      "\n",
      "[248 rows x 2 columns]\n",
      "\n",
      "First author on sorted list:                  no_of_books  mean_rating\n",
      "author                                  \n",
      "Muriel Barbery            1          4.0\n"
     ]
    }
   ],
   "execution_count": 136
  },
  {
   "metadata": {},
   "cell_type": "code",
   "outputs": [],
   "execution_count": null,
   "source": "",
   "id": "a10ecbf17012ee8a"
  }
 ],
 "metadata": {
  "kernelspec": {
   "display_name": "Python 3",
   "language": "python",
   "name": "python3"
  },
  "language_info": {
   "codemirror_mode": {
    "name": "ipython",
    "version": 2
   },
   "file_extension": ".py",
   "mimetype": "text/x-python",
   "name": "python",
   "nbconvert_exporter": "python",
   "pygments_lexer": "ipython2",
   "version": "2.7.6"
  }
 },
 "nbformat": 4,
 "nbformat_minor": 5
}
