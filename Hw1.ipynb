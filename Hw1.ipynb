{
 "cells": [
  {
   "cell_type": "code",
   "execution_count": 17,
   "id": "3871e3c7",
   "metadata": {},
   "outputs": [],
   "source": [
    "import numpy as np\n",
    "\n"
   ]
  },
  {
   "cell_type": "code",
   "execution_count": 18,
   "id": "3443f50d",
   "metadata": {},
   "outputs": [
    {
     "name": "stdout",
     "output_type": "stream",
     "text": [
      "[ 1.  2.  3.  4.  5.  6.  7.  8.  9. 10.]\n"
     ]
    }
   ],
   "source": [
    "# No. 1\n",
    "vector = np.linspace(1,10, num=10)\n",
    "print(vector)"
   ]
  },
  {
   "cell_type": "code",
   "execution_count": 19,
   "id": "770be379",
   "metadata": {},
   "outputs": [
    {
     "name": "stdout",
     "output_type": "stream",
     "text": [
      "[[0 0 0]\n",
      " [0 0 0]\n",
      " [0 0 0]]\n"
     ]
    }
   ],
   "source": [
    "# No. 2\n",
    "zeros_matrix = np.zeros((3, 3), dtype=int)\n",
    "print(zeros_matrix)"
   ]
  },
  {
   "cell_type": "code",
   "execution_count": 20,
   "id": "8b459c69",
   "metadata": {},
   "outputs": [
    {
     "name": "stdout",
     "output_type": "stream",
     "text": [
      "[[1 6 2 3 6]\n",
      " [7 8 9 3 6]\n",
      " [1 8 9 2 5]\n",
      " [5 8 9 3 9]\n",
      " [3 6 1 3 5]]\n"
     ]
    }
   ],
   "source": [
    "# No. 3\n",
    "random_no_matrix = np.random.randint(low=1, high=10, size=(5, 5))\n",
    "print(random_no_matrix)"
   ]
  },
  {
   "cell_type": "code",
   "execution_count": 21,
   "id": "af1f8b50",
   "metadata": {},
   "outputs": [
    {
     "name": "stdout",
     "output_type": "stream",
     "text": [
      "[[0.36704505 0.68202388 0.00395755 0.32153122]\n",
      " [0.45285901 0.19335285 0.26802289 0.27542949]\n",
      " [0.84021373 0.60276692 0.05636964 0.40776619]\n",
      " [0.83651281 0.449728   0.07018752 0.44040649]]\n"
     ]
    }
   ],
   "source": [
    "# No. 4\n",
    "random_real_no = np.random.rand(4, 4)\n",
    "print(random_real_no)"
   ]
  },
  {
   "cell_type": "code",
   "execution_count": 22,
   "id": "b09f9c9d",
   "metadata": {},
   "outputs": [
    {
     "name": "stdout",
     "output_type": "stream",
     "text": [
      "Random A:  [[9 2 2 7 8]]\n",
      "Random B:  [[3 7 7 7 1]]\n",
      "Add:  [[12  9  9 14  9]]\n",
      "Subtract:  [[ 6 -5 -5  0  7]]\n",
      "Multiply:  [[27 14 14 49  8]]\n"
     ]
    }
   ],
   "source": [
    "# No. 5\n",
    "random_a_vector = np.random.randint(low=1, high=10, size=(1, 5))\n",
    "random_b_vector = np.random.randint(low=1, high=10, size=(1, 5))\n",
    "\n",
    "print(\"Random A: \", random_a_vector)\n",
    "print(\"Random B: \",random_b_vector)\n",
    "\n",
    "add = random_a_vector + random_b_vector\n",
    "print(\"Add: \", add)\n",
    "\n",
    "subtract = random_a_vector - random_b_vector\n",
    "print(\"Subtract: \", subtract)\n",
    "\n",
    "multiply = random_a_vector * random_b_vector\n",
    "print(\"Multiply: \", multiply)"
   ]
  },
  {
   "cell_type": "code",
   "execution_count": 23,
   "id": "f19fa329",
   "metadata": {},
   "outputs": [
    {
     "name": "stdout",
     "output_type": "stream",
     "text": [
      "Random A2:  [[0.4905114  0.71122396 0.0109757  0.46728291 0.32978062 0.93867897\n",
      "  0.84710853]]\n",
      "Random B2:  [[0.45541952 0.86407286 0.03519623 0.16775263 0.91888379 0.63918052\n",
      "  0.81746369]]\n",
      "Multiply2:  [[2.23388465e-01 6.14549327e-01 3.86303369e-04 7.83879367e-02\n",
      "  3.03030065e-01 5.99985311e-01 6.92480467e-01]]\n"
     ]
    }
   ],
   "source": [
    "# No. 6\n",
    "random_a2_vector = np.random.random(size=(1, 7))\n",
    "random_b2_vector = np.random.random(size=(1, 7))\n",
    "\n",
    "print(\"Random A2: \", random_a2_vector)\n",
    "print(\"Random B2: \",random_b2_vector)\n",
    "\n",
    "multiply2 = random_a2_vector * random_b2_vector\n",
    "print(\"Multiply2: \", multiply2)"
   ]
  },
  {
   "cell_type": "code",
   "execution_count": 25,
   "id": "87ddf5cd",
   "metadata": {},
   "outputs": [
    {
     "name": "stdout",
     "output_type": "stream",
     "text": [
      "Rand A Matrix:  [[4 7]\n",
      " [3 5]]\n",
      "Rand B Matrix:  [[3 1 1]\n",
      " [6 7 1]]\n",
      "Mul matrixes:  [[54 53 11]\n",
      " [39 38  8]]\n"
     ]
    }
   ],
   "source": [
    "# No. 7\n",
    "random_A_matrix = np.random.randint(low=1, high=10, size=(2, 2))\n",
    "random_B_matrix = np.random.randint(low=1, high=10, size=(2, 3))\n",
    "print(\"Rand A Matrix: \",random_A_matrix)\n",
    "print(\"Rand B Matrix: \",random_B_matrix)\n",
    "\n",
    "mul_matrixes = np.dot(random_A_matrix, random_B_matrix)\n",
    "\n",
    "print(\"Mul Matrixes: \", mul_matrixes)"
   ]
  },
  {
   "cell_type": "code",
   "execution_count": 32,
   "id": "7f7fbc7c",
   "metadata": {},
   "outputs": [
    {
     "name": "stdout",
     "output_type": "stream",
     "text": [
      "Rand_matrix_3x3:  [[5 2 9]\n",
      " [1 7 9]\n",
      " [5 6 7]]\n",
      "Inverter matrix:  [[ 0.02380952 -0.19047619  0.21428571]\n",
      " [-0.18095238  0.04761905  0.17142857]\n",
      " [ 0.13809524  0.0952381  -0.15714286]]\n"
     ]
    }
   ],
   "source": [
    "# No. 8\n",
    "rand_matrix_3x3 = np.random.randint(low=1, high=10, size=(3, 3))\n",
    "print(\"Rand_matrix_3x3: \", rand_matrix_3x3)\n",
    "\n",
    "matrix_inv = np.linalg.inv(rand_matrix_3x3)\n",
    "print(\"Inverter matrix: \", matrix_inv)"
   ]
  },
  {
   "cell_type": "code",
   "execution_count": 29,
   "id": "f52b795c",
   "metadata": {},
   "outputs": [
    {
     "name": "stdout",
     "output_type": "stream",
     "text": [
      "Rand_matrix_4x4:  [[0.57859881 0.89012776 0.25381519 0.73866953]\n",
      " [0.74191783 0.63578717 0.58552167 0.46870055]\n",
      " [0.61497997 0.71282624 0.44436393 0.76626661]\n",
      " [0.96082504 0.52805233 0.0313525  0.15441751]]\n",
      "Transposed matrix:  [[0.57859881 0.74191783 0.61497997 0.96082504]\n",
      " [0.89012776 0.63578717 0.71282624 0.52805233]\n",
      " [0.25381519 0.58552167 0.44436393 0.0313525 ]\n",
      " [0.73866953 0.46870055 0.76626661 0.15441751]]\n"
     ]
    }
   ],
   "source": [
    "# No. 9\n",
    "rand_matrix_4x4 = np.random.random(size=(4, 4))\n",
    "print(\"Rand_matrix_4x4: \", rand_matrix_4x4)\n",
    "\n",
    "transpose_matrix_4x4 = rand_matrix_4x4.T\n",
    "print(\"Transposed matrix: \", transpose_matrix_4x4)"
   ]
  },
  {
   "cell_type": "code",
   "execution_count": 42,
   "id": "77298372",
   "metadata": {},
   "outputs": [
    {
     "name": "stdout",
     "output_type": "stream",
     "text": [
      "Rand matrix 3x4:  [[9 5 9 3]\n",
      " [4 2 3 6]\n",
      " [4 8 3 3]]\n",
      "Rand vector 4:  [[3 8 1 4]]\n",
      "Matrix multiplied by vector:  [[88]\n",
      " [55]\n",
      " [91]]\n"
     ]
    }
   ],
   "source": [
    "# No. 10\n",
    "rand_matrix_3x4 = np.random.randint(low=1, high=10, size=(3, 4))\n",
    "rand_vector_4 = np.random.randint(low=1, high=10, size=(1, 4))\n",
    "\n",
    "print(\"Rand matrix 3x4: \", rand_matrix_3x4)\n",
    "print(\"Rand vector 4: \", rand_vector_4)\n",
    "\n",
    "rand_vector_4 = rand_vector_4.T\n",
    "\n",
    "mult_matrix_vector = np.dot(rand_matrix_3x4, rand_vector_4)\n",
    "print(\"Matrix multiplied by vector: \", mult_matrix_vector)"
   ]
  },
  {
   "cell_type": "code",
   "execution_count": 43,
   "id": "ef0514f3",
   "metadata": {},
   "outputs": [
    {
     "name": "stdout",
     "output_type": "stream",
     "text": [
      "Rand matrix 2x3:  [[0.74570173 0.97161989 0.46778639]\n",
      " [0.85114949 0.30777476 0.88139026]]\n",
      "Rand vector 3:  [[0.6168549  0.99625994 0.45641342]]\n",
      "Matrix multiplied by vector:  [[1.64147974]\n",
      " [1.23393775]]\n"
     ]
    }
   ],
   "source": [
    "# No. 11\n",
    "rand_matrix_2x3 = np.random.random(size=(2, 3))\n",
    "rand_vector_3 = np.random.random(size=(1, 3))\n",
    "\n",
    "print(\"Rand matrix 2x3: \", rand_matrix_2x3)\n",
    "print(\"Rand vector 3: \", rand_vector_3)\n",
    "\n",
    "rand_vector_3 = rand_vector_3.T\n",
    "\n",
    "mult_matrix_vector2 = np.dot(rand_matrix_2x3, rand_vector_3)\n",
    "print(\"Matrix multiplied by vector: \", mult_matrix_vector2)"
   ]
  },
  {
   "cell_type": "code",
   "execution_count": 80,
   "id": "1532e538",
   "metadata": {},
   "outputs": [
    {
     "name": "stdout",
     "output_type": "stream",
     "text": [
      "First:  [[1 1]\n",
      " [8 1]]\n",
      "Second:  [[6 6]\n",
      " [7 8]]\n",
      "Element-wise multiplied matrix:  [[ 6  6]\n",
      " [56  8]]\n"
     ]
    }
   ],
   "source": [
    "# No. 12\n",
    "first_random_matrix_2x2 = np.random.randint(low=1, high=10, size=(2, 2))\n",
    "second_random_matrix_2x2 = np.random.randint(low=1, high=10, size=(2, 2))\n",
    "\n",
    "print(\"First: \", first_random_matrix_2x2)\n",
    "print(\"Second: \", second_random_matrix_2x2)\n",
    "\n",
    "element_wise_mul_matrix = np.multiply(first_random_matrix_2x2, second_random_matrix_2x2)\n",
    "print(\"Element-wise multiplied matrix: \", element_wise_mul_matrix)"
   ]
  },
  {
   "cell_type": "code",
   "execution_count": 44,
   "id": "fde111e9",
   "metadata": {},
   "outputs": [
    {
     "name": "stdout",
     "output_type": "stream",
     "text": [
      "First:  [[4 2]\n",
      " [7 8]]\n",
      "Second:  [[2 2]\n",
      " [8 4]]\n",
      "Multiplied matrix:  [[24 16]\n",
      " [78 46]]\n"
     ]
    }
   ],
   "source": [
    "# No. 13\n",
    "first_random_matrix_2x2 = np.random.randint(low=1, high=10, size=(2, 2))\n",
    "second_random_matrix_2x2 = np.random.randint(low=1, high=10, size=(2, 2))\n",
    "\n",
    "print(\"First: \", first_random_matrix_2x2)\n",
    "print(\"Second: \", second_random_matrix_2x2)\n",
    "\n",
    "mul_matrix = np.dot(first_random_matrix_2x2, second_random_matrix_2x2)\n",
    "print(\"Multiplied matrix: \", mul_matrix)"
   ]
  },
  {
   "cell_type": "code",
   "execution_count": 45,
   "id": "94bcbef4",
   "metadata": {},
   "outputs": [
    {
     "name": "stdout",
     "output_type": "stream",
     "text": [
      "Random 100 matrix:  [[52 53 33 56 32]\n",
      " [45 20 27 67 36]\n",
      " [68 39 59 63 40]\n",
      " [97 46 93 85 74]\n",
      " [ 6 33 31 49 90]]\n",
      "Sum of 100 matrix:  1294\n"
     ]
    }
   ],
   "source": [
    "# No. 14\n",
    "rand_100_matrix = np.random.randint(low=1, high=100, size=(5, 5))\n",
    "print(\"Random 100 matrix: \", rand_100_matrix)\n",
    "\n",
    "sum_matrix_100 = rand_100_matrix.sum()\n",
    "print(\"Sum of 100 matrix: \", sum_matrix_100)\n"
   ]
  },
  {
   "cell_type": "code",
   "execution_count": 46,
   "id": "6ba10ec4",
   "metadata": {},
   "outputs": [
    {
     "name": "stdout",
     "output_type": "stream",
     "text": [
      "First:  [[6 9 6 8]\n",
      " [8 4 8 8]\n",
      " [1 9 1 8]\n",
      " [7 6 3 1]]\n",
      "Second:  [[4 6 8 1]\n",
      " [5 6 9 3]\n",
      " [3 8 3 1]\n",
      " [1 9 7 4]]\n",
      "Subtract:  [[ 2  3 -2  7]\n",
      " [ 3 -2 -1  5]\n",
      " [-2  1 -2  7]\n",
      " [ 6 -3 -4 -3]]\n"
     ]
    }
   ],
   "source": [
    "# No. 15\n",
    "first_random_matrix_4x4 = np.random.randint(low=1, high=10, size=(4, 4))\n",
    "second_random_matrix_4x4 = np.random.randint(low=1, high=10, size=(4, 4))\n",
    "\n",
    "print(\"First: \", first_random_matrix_4x4)\n",
    "print(\"Second: \", second_random_matrix_4x4)\n",
    "\n",
    "subtract_matrix = np.subtract(first_random_matrix_4x4, second_random_matrix_4x4)\n",
    "print(\"Subtract: \", subtract_matrix)"
   ]
  },
  {
   "cell_type": "code",
   "execution_count": 55,
   "id": "f6ad8ecd",
   "metadata": {},
   "outputs": [
    {
     "name": "stdout",
     "output_type": "stream",
     "text": [
      "Rand 3x3 matrix:  [[0.46178813 0.82923703 0.64343194]\n",
      " [0.82525754 0.62162211 0.55706128]\n",
      " [0.81791985 0.54334867 0.34523167]]\n",
      "Vector:  [1.9344571  2.00394094 1.70650019] shape:  (3,)\n"
     ]
    }
   ],
   "source": [
    "# No. 16\n",
    "\n",
    "rand_matrix_3x3 = np.random.random(size=(3, 3))\n",
    "print(\"Rand 3x3 matrix: \", rand_matrix_3x3)\n",
    "\n",
    "vector_of_rows_sum = np.sum(rand_matrix_3x3, axis=1)\n",
    "vector_of_rows_sum = vector_of_rows_sum.T\n",
    "print(\"Vector: \", vector_of_rows_sum, \"shape: \", vector_of_rows_sum.shape)"
   ]
  },
  {
   "cell_type": "code",
   "execution_count": 63,
   "id": "f2b9e1c8",
   "metadata": {},
   "outputs": [
    {
     "name": "stdout",
     "output_type": "stream",
     "text": [
      "Matrix:  [[4 5 5 6]\n",
      " [7 4 9 5]\n",
      " [2 1 5 7]]\n",
      "Sqr matrix:  [[16 25 25 36]\n",
      " [49 16 81 25]\n",
      " [ 4  1 25 49]]\n"
     ]
    }
   ],
   "source": [
    "# No. 17\n",
    "rand_3x4_matrix = np.random.randint(low=1, high=10, size=(3, 4))\n",
    "print(\"Matrix: \", rand_3x4_matrix)\n",
    "\n",
    "square_matrix = np.square(rand_3x4_matrix)\n",
    "print(\"Square matrix: \", square_matrix)"
   ]
  },
  {
   "cell_type": "code",
   "execution_count": 78,
   "id": "25b39b41",
   "metadata": {},
   "outputs": [
    {
     "name": "stdout",
     "output_type": "stream",
     "text": [
      "Random 4 vector:  [[1 8 6 9]]\n",
      "Square-root vector:  [[1.         2.82842712 2.44948974 3.        ]]\n"
     ]
    }
   ],
   "source": [
    "# No. 18\n",
    "random_4_vector = np.random.randint(low=1, high=10, size=(1, 4), dtype=int)\n",
    "print(\"Random 4 vector: \", random_4_vector)\n",
    "\n",
    "sqrt_vector = np.sqrt(random_4_vector)\n",
    "print(\"Square-root vector: \", sqrt_vector)"
   ]
  }
 ],
 "metadata": {
  "kernelspec": {
   "display_name": "Python 3 (ipykernel)",
   "language": "python",
   "name": "python3"
  },
  "language_info": {
   "codemirror_mode": {
    "name": "ipython",
    "version": 3
   },
   "file_extension": ".py",
   "mimetype": "text/x-python",
   "name": "python",
   "nbconvert_exporter": "python",
   "pygments_lexer": "ipython3",
   "version": "3.11.5"
  }
 },
 "nbformat": 4,
 "nbformat_minor": 5
}
