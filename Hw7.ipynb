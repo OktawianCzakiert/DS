{
 "cells": [
  {
   "cell_type": "code",
   "id": "initial_id",
   "metadata": {
    "collapsed": true,
    "ExecuteTime": {
     "end_time": "2024-05-11T16:26:11.915009Z",
     "start_time": "2024-05-11T16:26:11.911272Z"
    }
   },
   "source": [
    "from surprise import Dataset\n",
    "from surprise.model_selection import cross_validate\n",
    "from surprise.prediction_algorithms import SVD, SVDpp, NMF\n",
    "\n"
   ],
   "outputs": [],
   "execution_count": 10
  },
  {
   "metadata": {
    "ExecuteTime": {
     "end_time": "2024-05-11T16:20:53.006942Z",
     "start_time": "2024-05-11T16:20:44.446626Z"
    }
   },
   "cell_type": "code",
   "source": "data = Dataset.load_builtin(\"ml-100k\")",
   "id": "8cb7436960a4e9dd",
   "outputs": [
    {
     "name": "stdout",
     "output_type": "stream",
     "text": [
      "Dataset ml-100k could not be found. Do you want to download it? [Y/n] Trying to download dataset from https://files.grouplens.org/datasets/movielens/ml-100k.zip...\n",
      "Done! Dataset ml-100k has been saved to /Users/macair/.surprise_data/ml-100k\n"
     ]
    },
    {
     "data": {
      "text/plain": [
       "<surprise.dataset.DatasetAutoFolds at 0x10666b650>"
      ]
     },
     "execution_count": 4,
     "metadata": {},
     "output_type": "execute_result"
    }
   ],
   "execution_count": 4
  },
  {
   "metadata": {
    "ExecuteTime": {
     "end_time": "2024-05-11T16:25:31.982653Z",
     "start_time": "2024-05-11T16:25:27.559274Z"
    }
   },
   "cell_type": "code",
   "source": [
    "algo = SVD()\n",
    "cross_validate(algo, data, measures=[\"RMSE\", \"MAE\"], cv=5, verbose=True)"
   ],
   "id": "9f3537134b8c1554",
   "outputs": [
    {
     "name": "stdout",
     "output_type": "stream",
     "text": [
      "Evaluating RMSE, MAE of algorithm SVD on 5 split(s).\n",
      "\n",
      "                  Fold 1  Fold 2  Fold 3  Fold 4  Fold 5  Mean    Std     \n",
      "RMSE (testset)    0.9305  0.9439  0.9353  0.9278  0.9363  0.9348  0.0055  \n",
      "MAE (testset)     0.7340  0.7443  0.7383  0.7292  0.7395  0.7371  0.0051  \n",
      "Fit time          0.73    0.66    0.65    0.76    0.66    0.69    0.05    \n",
      "Test time         0.11    0.06    0.10    0.06    0.10    0.09    0.02    \n"
     ]
    },
    {
     "data": {
      "text/plain": [
       "{'test_rmse': array([0.93047443, 0.94386376, 0.9353255 , 0.92781303, 0.93630549]),\n",
       " 'test_mae': array([0.73404793, 0.74425825, 0.73825489, 0.72923424, 0.73950042]),\n",
       " 'fit_time': (0.7302720546722412,\n",
       "  0.6575927734375,\n",
       "  0.6491060256958008,\n",
       "  0.764901876449585,\n",
       "  0.6553840637207031),\n",
       " 'test_time': (0.11314201354980469,\n",
       "  0.0626060962677002,\n",
       "  0.09954595565795898,\n",
       "  0.0628809928894043,\n",
       "  0.09501385688781738)}"
      ]
     },
     "execution_count": 8,
     "metadata": {},
     "output_type": "execute_result"
    }
   ],
   "execution_count": 8
  },
  {
   "metadata": {
    "ExecuteTime": {
     "end_time": "2024-05-11T16:27:22.355725Z",
     "start_time": "2024-05-11T16:26:16.230589Z"
    }
   },
   "cell_type": "code",
   "source": [
    "algo_svdpp = SVDpp()\n",
    "cross_validate(algo_svdpp, data, measures=['RMSE', 'MAE'], cv=5, verbose=True)"
   ],
   "id": "8e39e96ccf5c6728",
   "outputs": [
    {
     "name": "stdout",
     "output_type": "stream",
     "text": [
      "Evaluating RMSE, MAE of algorithm SVDpp on 5 split(s).\n",
      "\n",
      "                  Fold 1  Fold 2  Fold 3  Fold 4  Fold 5  Mean    Std     \n",
      "RMSE (testset)    0.9143  0.9269  0.9237  0.9115  0.9164  0.9186  0.0058  \n",
      "MAE (testset)     0.7169  0.7307  0.7236  0.7167  0.7205  0.7217  0.0052  \n",
      "Fit time          10.82   10.49   11.67   10.86   10.58   10.89   0.42    \n",
      "Test time         2.26    2.25    2.25    2.27    2.20    2.25    0.02    \n"
     ]
    },
    {
     "data": {
      "text/plain": [
       "{'test_rmse': array([0.91425239, 0.92692029, 0.92373745, 0.91149875, 0.91643654]),\n",
       " 'test_mae': array([0.71688253, 0.73068197, 0.72358223, 0.71666533, 0.72051645]),\n",
       " 'fit_time': (10.822853088378906,\n",
       "  10.494473934173584,\n",
       "  11.671396970748901,\n",
       "  10.856090068817139,\n",
       "  10.581699848175049),\n",
       " 'test_time': (2.259253978729248,\n",
       "  2.253469944000244,\n",
       "  2.254000186920166,\n",
       "  2.2728257179260254,\n",
       "  2.20158314704895)}"
      ]
     },
     "execution_count": 11,
     "metadata": {},
     "output_type": "execute_result"
    }
   ],
   "execution_count": 11
  },
  {
   "metadata": {
    "ExecuteTime": {
     "end_time": "2024-05-11T16:27:27.500856Z",
     "start_time": "2024-05-11T16:27:22.357115Z"
    }
   },
   "cell_type": "code",
   "source": [
    "algo_nmf = NMF()\n",
    "cross_validate(algo_nmf, data, measures=['RMSE', 'MAE'], cv=5, verbose=True)"
   ],
   "id": "2b0f3e6712b74084",
   "outputs": [
    {
     "name": "stdout",
     "output_type": "stream",
     "text": [
      "Evaluating RMSE, MAE of algorithm NMF on 5 split(s).\n",
      "\n",
      "                  Fold 1  Fold 2  Fold 3  Fold 4  Fold 5  Mean    Std     \n",
      "RMSE (testset)    0.9594  0.9620  0.9720  0.9722  0.9615  0.9654  0.0055  \n",
      "MAE (testset)     0.7543  0.7569  0.7652  0.7624  0.7578  0.7593  0.0040  \n",
      "Fit time          0.89    0.89    0.87    0.85    0.87    0.87    0.02    \n",
      "Test time         0.05    0.09    0.05    0.09    0.05    0.07    0.02    \n"
     ]
    },
    {
     "data": {
      "text/plain": [
       "{'test_rmse': array([0.95937069, 0.96204093, 0.97202016, 0.97224724, 0.96146277]),\n",
       " 'test_mae': array([0.75431653, 0.75685015, 0.76522551, 0.76244805, 0.75776894]),\n",
       " 'fit_time': (0.890408992767334,\n",
       "  0.8888771533966064,\n",
       "  0.8654749393463135,\n",
       "  0.8511440753936768,\n",
       "  0.866102933883667),\n",
       " 'test_time': (0.052127838134765625,\n",
       "  0.09436798095703125,\n",
       "  0.05368781089782715,\n",
       "  0.09261798858642578,\n",
       "  0.05249214172363281)}"
      ]
     },
     "execution_count": 12,
     "metadata": {},
     "output_type": "execute_result"
    }
   ],
   "execution_count": 12
  },
  {
   "metadata": {},
   "cell_type": "markdown",
   "source": [
    "Based on the evaluation results:\n",
    "\n",
    "For SVD:\n",
    "- Mean RMSE: 0.9348\n",
    "- Mean MAE: 0.7371\n",
    "- Mean Fit time: 0.69 seconds\n",
    "- Mean Test time: 0.09 seconds\n",
    "\n",
    "For SVDpp:\n",
    "- Mean RMSE: 0.9186\n",
    "- Mean MAE: 0.7217\n",
    "- Mean Fit time: 10.89 seconds\n",
    "- Mean Test time: 2.25 seconds\n",
    "\n",
    "For NMF:\n",
    "- Mean RMSE: 0.9654\n",
    "- Mean MAE: 0.7593\n",
    "- Mean Fit time: 0.87 seconds\n",
    "- Mean Test time: 0.07 seconds\n",
    "\n",
    "Based on RMSE and MAE, lower values are better. So, in this case, SVDpp seems to perform the best, as it has the lowest RMSE and MAE among the three algorithms. However, SVD also performs well and has significantly lower computational time compared to SVDpp. NMF has the highest RMSE and MAE among the three algorithms.\n",
    "\n",
    "Therefore, if we prioritize accuracy, SVDpp is the best choice. But if computational efficiency is a concern, SVD might be preferred."
   ],
   "id": "c2571011b0d52e5c"
  }
 ],
 "metadata": {
  "kernelspec": {
   "display_name": "Python 3",
   "language": "python",
   "name": "python3"
  },
  "language_info": {
   "codemirror_mode": {
    "name": "ipython",
    "version": 2
   },
   "file_extension": ".py",
   "mimetype": "text/x-python",
   "name": "python",
   "nbconvert_exporter": "python",
   "pygments_lexer": "ipython2",
   "version": "2.7.6"
  }
 },
 "nbformat": 4,
 "nbformat_minor": 5
}
