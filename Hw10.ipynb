{
  "nbformat": 4,
  "nbformat_minor": 0,
  "metadata": {
    "colab": {
      "provenance": [],
      "gpuType": "T4"
    },
    "kernelspec": {
      "name": "python3",
      "display_name": "Python 3"
    },
    "language_info": {
      "name": "python"
    },
    "accelerator": "GPU"
  },
  "cells": [
    {
      "cell_type": "markdown",
      "source": [
        "PART 1"
      ],
      "metadata": {
        "id": "zcZ7V124Ooio"
      }
    },
    {
      "cell_type": "code",
      "source": [
        "import tensorflow as tf\n",
        "import matplotlib.pyplot as plt\n",
        "from keras.datasets import fashion_mnist\n",
        "from keras import models\n",
        "from keras import layers\n",
        "from keras.utils import to_categorical\n",
        "\n",
        "\n",
        "(train_images, train_labels), (test_images, test_labels) = fashion_mnist.load_data()\n",
        "\n",
        "\n",
        "train_images = train_images.reshape((train_images.shape[0], 28, 28, 1)).astype('float32') / 255\n",
        "test_images = test_images.reshape((test_images.shape[0], 28, 28, 1)).astype('float32') / 255\n",
        "\n",
        "\n",
        "train_labels = to_categorical(train_labels)\n",
        "test_labels = to_categorical(test_labels)\n"
      ],
      "metadata": {
        "colab": {
          "base_uri": "https://localhost:8080/"
        },
        "id": "IhWgnJP2OtQM",
        "outputId": "3ba55bea-81d7-4f20-b817-2d56c295df0c"
      },
      "execution_count": null,
      "outputs": [
        {
          "output_type": "stream",
          "name": "stdout",
          "text": [
            "Downloading data from https://storage.googleapis.com/tensorflow/tf-keras-datasets/train-labels-idx1-ubyte.gz\n",
            "29515/29515 [==============================] - 0s 0us/step\n",
            "Downloading data from https://storage.googleapis.com/tensorflow/tf-keras-datasets/train-images-idx3-ubyte.gz\n",
            "26421880/26421880 [==============================] - 2s 0us/step\n",
            "Downloading data from https://storage.googleapis.com/tensorflow/tf-keras-datasets/t10k-labels-idx1-ubyte.gz\n",
            "5148/5148 [==============================] - 0s 0us/step\n",
            "Downloading data from https://storage.googleapis.com/tensorflow/tf-keras-datasets/t10k-images-idx3-ubyte.gz\n",
            "4422102/4422102 [==============================] - 1s 0us/step\n"
          ]
        }
      ]
    },
    {
      "cell_type": "code",
      "source": [
        "model = models.Sequential([\n",
        "    layers.Conv2D(32, (3, 3), activation='relu', input_shape=(28, 28, 1)),\n",
        "    layers.MaxPooling2D((2, 2)),\n",
        "\n",
        "    layers.Conv2D(64, (3, 3), activation='relu'),\n",
        "    layers.MaxPooling2D((2, 2)),\n",
        "\n",
        "    layers.Conv2D(128, (3, 3), activation='relu'),\n",
        "    layers.Flatten(),\n",
        "\n",
        "    layers.Dense(128, activation='relu'),\n",
        "    layers.Dropout(0.5),\n",
        "    layers.Dense(10, activation='softmax')\n",
        "])\n",
        "\n",
        "model.compile(\n",
        "    optimizer='adam',\n",
        "    loss='categorical_crossentropy',\n",
        "    metrics=['accuracy']\n",
        ")\n",
        "\n",
        "model.summary()\n"
      ],
      "metadata": {
        "colab": {
          "base_uri": "https://localhost:8080/"
        },
        "id": "rvY_LPevOwKz",
        "outputId": "4d4efd0d-8836-48ff-ebd3-b6d1f2ca97f7"
      },
      "execution_count": null,
      "outputs": [
        {
          "output_type": "stream",
          "name": "stdout",
          "text": [
            "Model: \"sequential\"\n",
            "_________________________________________________________________\n",
            " Layer (type)                Output Shape              Param #   \n",
            "=================================================================\n",
            " conv2d (Conv2D)             (None, 26, 26, 32)        320       \n",
            "                                                                 \n",
            " max_pooling2d (MaxPooling2  (None, 13, 13, 32)        0         \n",
            " D)                                                              \n",
            "                                                                 \n",
            " conv2d_1 (Conv2D)           (None, 11, 11, 64)        18496     \n",
            "                                                                 \n",
            " max_pooling2d_1 (MaxPoolin  (None, 5, 5, 64)          0         \n",
            " g2D)                                                            \n",
            "                                                                 \n",
            " conv2d_2 (Conv2D)           (None, 3, 3, 128)         73856     \n",
            "                                                                 \n",
            " flatten (Flatten)           (None, 1152)              0         \n",
            "                                                                 \n",
            " dense (Dense)               (None, 128)               147584    \n",
            "                                                                 \n",
            " dropout (Dropout)           (None, 128)               0         \n",
            "                                                                 \n",
            " dense_1 (Dense)             (None, 10)                1290      \n",
            "                                                                 \n",
            "=================================================================\n",
            "Total params: 241546 (943.54 KB)\n",
            "Trainable params: 241546 (943.54 KB)\n",
            "Non-trainable params: 0 (0.00 Byte)\n",
            "_________________________________________________________________\n"
          ]
        }
      ]
    },
    {
      "cell_type": "code",
      "source": [
        "history = model.fit(train_images, train_labels, epochs=10, batch_size=64, validation_split=0.2)\n"
      ],
      "metadata": {
        "id": "nVntvaEhOwVL",
        "colab": {
          "base_uri": "https://localhost:8080/"
        },
        "outputId": "0cc2f43b-eb20-4509-88d7-bf54cfbd8aab"
      },
      "execution_count": null,
      "outputs": [
        {
          "output_type": "stream",
          "name": "stdout",
          "text": [
            "Epoch 1/10\n",
            "750/750 [==============================] - 15s 7ms/step - loss: 0.6442 - accuracy: 0.7653 - val_loss: 0.4006 - val_accuracy: 0.8504\n",
            "Epoch 2/10\n",
            "750/750 [==============================] - 3s 4ms/step - loss: 0.3981 - accuracy: 0.8575 - val_loss: 0.3316 - val_accuracy: 0.8770\n",
            "Epoch 3/10\n",
            "750/750 [==============================] - 4s 5ms/step - loss: 0.3359 - accuracy: 0.8805 - val_loss: 0.3304 - val_accuracy: 0.8759\n",
            "Epoch 4/10\n",
            "750/750 [==============================] - 5s 7ms/step - loss: 0.3017 - accuracy: 0.8925 - val_loss: 0.2869 - val_accuracy: 0.8953\n",
            "Epoch 5/10\n",
            "750/750 [==============================] - 4s 5ms/step - loss: 0.2712 - accuracy: 0.9023 - val_loss: 0.2675 - val_accuracy: 0.9036\n",
            "Epoch 6/10\n",
            "750/750 [==============================] - 4s 5ms/step - loss: 0.2530 - accuracy: 0.9073 - val_loss: 0.2575 - val_accuracy: 0.9078\n",
            "Epoch 7/10\n",
            "750/750 [==============================] - 4s 6ms/step - loss: 0.2331 - accuracy: 0.9156 - val_loss: 0.2709 - val_accuracy: 0.9027\n",
            "Epoch 8/10\n",
            "750/750 [==============================] - 4s 5ms/step - loss: 0.2154 - accuracy: 0.9196 - val_loss: 0.2581 - val_accuracy: 0.9082\n",
            "Epoch 9/10\n",
            "750/750 [==============================] - 4s 5ms/step - loss: 0.1996 - accuracy: 0.9276 - val_loss: 0.2493 - val_accuracy: 0.9107\n",
            "Epoch 10/10\n",
            "750/750 [==============================] - 4s 6ms/step - loss: 0.1863 - accuracy: 0.9318 - val_loss: 0.2455 - val_accuracy: 0.9144\n"
          ]
        }
      ]
    },
    {
      "cell_type": "code",
      "source": [
        "test_loss, test_acc = model.evaluate(test_images, test_labels)\n",
        "print(f'Test accuracy: {test_acc}')\n"
      ],
      "metadata": {
        "id": "JwmWqBufO4Ls",
        "colab": {
          "base_uri": "https://localhost:8080/"
        },
        "outputId": "fee0e59c-6205-4b80-8b55-a5f240ef6215"
      },
      "execution_count": null,
      "outputs": [
        {
          "output_type": "stream",
          "name": "stdout",
          "text": [
            "313/313 [==============================] - 1s 3ms/step - loss: 0.2649 - accuracy: 0.9084\n",
            "Test accuracy: 0.9083999991416931\n"
          ]
        }
      ]
    },
    {
      "cell_type": "code",
      "source": [
        "plt.plot(history.history['accuracy'], label='train_accuracy')\n",
        "plt.plot(history.history['val_accuracy'], label='val_accuracy')\n",
        "plt.xlabel('Epoch')\n",
        "plt.ylabel('Accuracy')\n",
        "plt.legend()\n",
        "plt.show()\n"
      ],
      "metadata": {
        "id": "5Fj5_5qxO6Js",
        "colab": {
          "base_uri": "https://localhost:8080/",
          "height": 449
        },
        "outputId": "b730c5c5-5f03-4b50-e6ac-e0662d4428ff"
      },
      "execution_count": null,
      "outputs": [
        {
          "output_type": "display_data",
          "data": {
            "text/plain": [
              "<Figure size 640x480 with 1 Axes>"
            ],
            "image/png": "[encoded data removed]"
          },
          "metadata": {}
        }
      ]
    },
    {
      "cell_type": "markdown",
      "source": [
        "PART 2"
      ],
      "metadata": {
        "id": "UduVq3yOO8-n"
      }
    },
    {
      "cell_type": "code",
      "source": [
        "import numpy as np\n",
        "import tensorflow as tf\n",
        "import matplotlib.pyplot as plt\n",
        "from keras import models\n",
        "from keras import layers\n",
        "from keras.utils import to_categorical\n",
        "from keras.datasets import fashion_mnist\n",
        "from keras.applications.vgg16 import VGG16\n",
        "from keras.callbacks import EarlyStopping, ReduceLROnPlateau\n",
        "\n",
        "(train_images, train_labels), (test_images, test_labels)= fashion_mnist.load_data()\n",
        "\n",
        "\n",
        "train_images = train_images.astype('float32')/255.0\n",
        "test_images = test_images.astype('float32')/255.0\n",
        "\n",
        "train_images = tf.image.resize(\n",
        "    tf.stack(3 * [train_images], axis=-1),\n",
        "    (32, 32)\n",
        ")\n",
        "\n",
        "test_images = tf.image.resize(\n",
        "    tf.stack(3 * [test_images], axis=-1),\n",
        "    (32, 32)\n",
        ")\n",
        "\n",
        "train_labels = to_categorical(train_labels, 10)\n",
        "test_labels = to_categorical(test_labels, 10)\n",
        "\n",
        "vgg_base = VGG16(weights='imagenet', include_top=False, input_shape=(32, 32, 3))\n",
        "vgg_base.trainable = False\n"
      ],
      "metadata": {
        "id": "Uu_6r2CWO-Li"
      },
      "execution_count": 38,
      "outputs": []
    },
    {
      "cell_type": "code",
      "source": [
        "model_vgg = models.Sequential([\n",
        "        vgg_base,\n",
        "        layers.Flatten(),\n",
        "        layers.Dropout(0.5),\n",
        "        layers.Dense(512, activation='relu'),\n",
        "        layers.Dense(10, activation='softmax')\n",
        "    ])\n",
        "\n",
        "model_vgg.compile(\n",
        "    optimizer='adam',\n",
        "    loss='categorical_crossentropy',\n",
        "    metrics=['accuracy'])\n",
        "\n",
        "model_vgg.summary()\n"
      ],
      "metadata": {
        "colab": {
          "base_uri": "https://localhost:8080/"
        },
        "id": "xXbq2tzbPG_d",
        "outputId": "ea178a6d-a340-4afc-b0f3-55612dd06b57"
      },
      "execution_count": 39,
      "outputs": [
        {
          "output_type": "stream",
          "name": "stdout",
          "text": [
            "Model: \"sequential_11\"\n",
            "_________________________________________________________________\n",
            " Layer (type)                Output Shape              Param #   \n",
            "=================================================================\n",
            " vgg16 (Functional)          (None, 1, 1, 512)         14714688  \n",
            "                                                                 \n",
            " flatten_11 (Flatten)        (None, 512)               0         \n",
            "                                                                 \n",
            " dropout_11 (Dropout)        (None, 512)               0         \n",
            "                                                                 \n",
            " dense_22 (Dense)            (None, 512)               262656    \n",
            "                                                                 \n",
            " dense_23 (Dense)            (None, 10)                5130      \n",
            "                                                                 \n",
            "=================================================================\n",
            "Total params: 14982474 (57.15 MB)\n",
            "Trainable params: 267786 (1.02 MB)\n",
            "Non-trainable params: 14714688 (56.13 MB)\n",
            "_________________________________________________________________\n"
          ]
        }
      ]
    },
    {
      "cell_type": "code",
      "source": [
        "\n",
        "early_stopping = EarlyStopping(monitor='val_loss', patience=10, restore_best_weights=True)\n",
        "reduce_lr = ReduceLROnPlateau(monitor='val_loss', factor=0.2, patience=5, min_lr=0.00001)\n",
        "\n",
        "history_vgg = model_vgg.fit(\n",
        "    train_images,\n",
        "    train_labels,\n",
        "    epochs=10,\n",
        "    batch_size=64,\n",
        "    validation_split=0.2,\n",
        "    callbacks=[early_stopping, reduce_lr]\n",
        "    )\n"
      ],
      "metadata": {
        "colab": {
          "base_uri": "https://localhost:8080/"
        },
        "id": "MDB5FXuKTvEi",
        "outputId": "2a7d8090-6ce8-4ddb-bf69-48f98eabb7ee"
      },
      "execution_count": 41,
      "outputs": [
        {
          "output_type": "stream",
          "name": "stdout",
          "text": [
            "Epoch 1/10\n",
            "750/750 [==============================] - 13s 14ms/step - loss: 0.7515 - accuracy: 0.7289 - val_loss: 0.5317 - val_accuracy: 0.8117 - lr: 0.0010\n",
            "Epoch 2/10\n",
            "750/750 [==============================] - 9s 13ms/step - loss: 0.6175 - accuracy: 0.7737 - val_loss: 0.4791 - val_accuracy: 0.8257 - lr: 0.0010\n",
            "Epoch 3/10\n",
            "750/750 [==============================] - 10s 13ms/step - loss: 0.5770 - accuracy: 0.7884 - val_loss: 0.4721 - val_accuracy: 0.8259 - lr: 0.0010\n",
            "Epoch 4/10\n",
            "750/750 [==============================] - 10s 13ms/step - loss: 0.5548 - accuracy: 0.7945 - val_loss: 0.4456 - val_accuracy: 0.8370 - lr: 0.0010\n",
            "Epoch 5/10\n",
            "750/750 [==============================] - 10s 13ms/step - loss: 0.5353 - accuracy: 0.8037 - val_loss: 0.4400 - val_accuracy: 0.8373 - lr: 0.0010\n",
            "Epoch 6/10\n",
            "750/750 [==============================] - 10s 13ms/step - loss: 0.5178 - accuracy: 0.8069 - val_loss: 0.4300 - val_accuracy: 0.8415 - lr: 0.0010\n",
            "Epoch 7/10\n",
            "750/750 [==============================] - 11s 15ms/step - loss: 0.5117 - accuracy: 0.8082 - val_loss: 0.4259 - val_accuracy: 0.8448 - lr: 0.0010\n",
            "Epoch 8/10\n",
            "750/750 [==============================] - 10s 14ms/step - loss: 0.4988 - accuracy: 0.8155 - val_loss: 0.4205 - val_accuracy: 0.8470 - lr: 0.0010\n",
            "Epoch 9/10\n",
            "750/750 [==============================] - 9s 12ms/step - loss: 0.4972 - accuracy: 0.8173 - val_loss: 0.4214 - val_accuracy: 0.8468 - lr: 0.0010\n",
            "Epoch 10/10\n",
            "750/750 [==============================] - 10s 14ms/step - loss: 0.4853 - accuracy: 0.8199 - val_loss: 0.4098 - val_accuracy: 0.8505 - lr: 0.0010\n"
          ]
        }
      ]
    },
    {
      "cell_type": "code",
      "source": [
        "test_loss, test_acc = model_vgg.evaluate(test_images, test_labels, verbose=2)\n",
        "print(f'\\nTest accuracy: {test_acc}')\n"
      ],
      "metadata": {
        "id": "0EuVn74LP4-i",
        "colab": {
          "base_uri": "https://localhost:8080/"
        },
        "outputId": "f6ac3232-e93c-407f-e396-9e64df59f1a0"
      },
      "execution_count": 42,
      "outputs": [
        {
          "output_type": "stream",
          "name": "stdout",
          "text": [
            "313/313 - 3s - loss: 0.4111 - accuracy: 0.8522 - 3s/epoch - 10ms/step\n",
            "\n",
            "Test accuracy: 0.8521999716758728\n"
          ]
        }
      ]
    },
    {
      "cell_type": "code",
      "source": [
        "plt.plot(history_vgg.history['accuracy'], label='train_accuracy')\n",
        "plt.plot(history_vgg.history['val_accuracy'], label='val_accuracy')\n",
        "plt.xlabel('Epoch')\n",
        "plt.ylabel('Accuracy')\n",
        "plt.legend()\n",
        "plt.show()"
      ],
      "metadata": {
        "id": "2zvWzfnDP5F1",
        "colab": {
          "base_uri": "https://localhost:8080/",
          "height": 449
        },
        "outputId": "d2b6c2f1-9cf3-48d2-efdf-8df54deefa69"
      },
      "execution_count": 43,
      "outputs": [
        {
          "output_type": "display_data",
          "data": {
            "text/plain": [
              "<Figure size 640x480 with 1 Axes>"
            ],
            "image/png": "[encoded data removed]"
          },
          "metadata": {}
        }
      ]
    },
    {
      "cell_type": "code",
      "source": [
        "vgg_base_tuned = vgg_base\n",
        "vgg_base_tuned.summary()"
      ],
      "metadata": {
        "colab": {
          "base_uri": "https://localhost:8080/"
        },
        "id": "ZkyIJ2aLlNwt",
        "outputId": "c34c1cee-9a24-4dad-8d29-c22246a0f027"
      },
      "execution_count": 44,
      "outputs": [
        {
          "output_type": "stream",
          "name": "stdout",
          "text": [
            "Model: \"vgg16\"\n",
            "_________________________________________________________________\n",
            " Layer (type)                Output Shape              Param #   \n",
            "=================================================================\n",
            " input_5 (InputLayer)        [(None, 32, 32, 3)]       0         \n",
            "                                                                 \n",
            " block1_conv1 (Conv2D)       (None, 32, 32, 64)        1792      \n",
            "                                                                 \n",
            " block1_conv2 (Conv2D)       (None, 32, 32, 64)        36928     \n",
            "                                                                 \n",
            " block1_pool (MaxPooling2D)  (None, 16, 16, 64)        0         \n",
            "                                                                 \n",
            " block2_conv1 (Conv2D)       (None, 16, 16, 128)       73856     \n",
            "                                                                 \n",
            " block2_conv2 (Conv2D)       (None, 16, 16, 128)       147584    \n",
            "                                                                 \n",
            " block2_pool (MaxPooling2D)  (None, 8, 8, 128)         0         \n",
            "                                                                 \n",
            " block3_conv1 (Conv2D)       (None, 8, 8, 256)         295168    \n",
            "                                                                 \n",
            " block3_conv2 (Conv2D)       (None, 8, 8, 256)         590080    \n",
            "                                                                 \n",
            " block3_conv3 (Conv2D)       (None, 8, 8, 256)         590080    \n",
            "                                                                 \n",
            " block3_pool (MaxPooling2D)  (None, 4, 4, 256)         0         \n",
            "                                                                 \n",
            " block4_conv1 (Conv2D)       (None, 4, 4, 512)         1180160   \n",
            "                                                                 \n",
            " block4_conv2 (Conv2D)       (None, 4, 4, 512)         2359808   \n",
            "                                                                 \n",
            " block4_conv3 (Conv2D)       (None, 4, 4, 512)         2359808   \n",
            "                                                                 \n",
            " block4_pool (MaxPooling2D)  (None, 2, 2, 512)         0         \n",
            "                                                                 \n",
            " block5_conv1 (Conv2D)       (None, 2, 2, 512)         2359808   \n",
            "                                                                 \n",
            " block5_conv2 (Conv2D)       (None, 2, 2, 512)         2359808   \n",
            "                                                                 \n",
            " block5_conv3 (Conv2D)       (None, 2, 2, 512)         2359808   \n",
            "                                                                 \n",
            " block5_pool (MaxPooling2D)  (None, 1, 1, 512)         0         \n",
            "                                                                 \n",
            "=================================================================\n",
            "Total params: 14714688 (56.13 MB)\n",
            "Trainable params: 0 (0.00 Byte)\n",
            "Non-trainable params: 14714688 (56.13 MB)\n",
            "_________________________________________________________________\n"
          ]
        }
      ]
    },
    {
      "cell_type": "code",
      "source": [
        "vgg_base_tuned.trainable = True\n",
        "set_trainable = False\n",
        "for layer in vgg_base_tuned.layers:\n",
        "    if layer.name == \"block5_conv1\":\n",
        "        set_trainable = True\n",
        "    if set_trainable:\n",
        "        layer.trainable = True\n",
        "    else:\n",
        "        layer.trainable = False\n"
      ],
      "metadata": {
        "id": "19XzUvQzlOA2"
      },
      "execution_count": 45,
      "outputs": []
    },
    {
      "cell_type": "code",
      "source": [
        "model_vgg_tuned = models.Sequential([\n",
        "        vgg_base_tuned,\n",
        "        layers.Flatten(),\n",
        "        layers.Dropout(0.5),\n",
        "        layers.Dense(512, activation='relu'),\n",
        "        layers.Dense(10, activation='softmax')\n",
        "    ])\n",
        "\n",
        "model_vgg_tuned.compile(\n",
        "    optimizer='adam',\n",
        "    loss='categorical_crossentropy',\n",
        "    metrics=['accuracy'])\n",
        "\n",
        "model_vgg_tuned.summary()\n"
      ],
      "metadata": {
        "colab": {
          "base_uri": "https://localhost:8080/"
        },
        "id": "R9dMq8jmlOHm",
        "outputId": "947aa167-2f81-4014-f064-c3175bc27be8"
      },
      "execution_count": 46,
      "outputs": [
        {
          "output_type": "stream",
          "name": "stdout",
          "text": [
            "Model: \"sequential_12\"\n",
            "_________________________________________________________________\n",
            " Layer (type)                Output Shape              Param #   \n",
            "=================================================================\n",
            " vgg16 (Functional)          (None, 1, 1, 512)         14714688  \n",
            "                                                                 \n",
            " flatten_12 (Flatten)        (None, 512)               0         \n",
            "                                                                 \n",
            " dropout_12 (Dropout)        (None, 512)               0         \n",
            "                                                                 \n",
            " dense_24 (Dense)            (None, 512)               262656    \n",
            "                                                                 \n",
            " dense_25 (Dense)            (None, 10)                5130      \n",
            "                                                                 \n",
            "=================================================================\n",
            "Total params: 14982474 (57.15 MB)\n",
            "Trainable params: 7347210 (28.03 MB)\n",
            "Non-trainable params: 7635264 (29.13 MB)\n",
            "_________________________________________________________________\n"
          ]
        }
      ]
    },
    {
      "cell_type": "code",
      "source": [
        "history_vgg_tuned = model_vgg_tuned.fit(\n",
        "    train_images,\n",
        "    train_labels,\n",
        "    epochs=10,\n",
        "    batch_size=64,\n",
        "    validation_split=0.2,\n",
        "    callbacks=[early_stopping, reduce_lr]\n",
        "    )"
      ],
      "metadata": {
        "colab": {
          "base_uri": "https://localhost:8080/"
        },
        "id": "0tBEzXsvoC6Z",
        "outputId": "3a734011-ef77-441b-ed94-4e4f32eef553"
      },
      "execution_count": 47,
      "outputs": [
        {
          "output_type": "stream",
          "name": "stdout",
          "text": [
            "Epoch 1/10\n",
            "750/750 [==============================] - 213s 282ms/step - loss: 0.5335 - accuracy: 0.8151 - val_loss: 0.3793 - val_accuracy: 0.8602 - lr: 0.0010\n",
            "Epoch 2/10\n",
            "750/750 [==============================] - 17s 23ms/step - loss: 0.3492 - accuracy: 0.8783 - val_loss: 0.3210 - val_accuracy: 0.8897 - lr: 0.0010\n",
            "Epoch 3/10\n",
            "750/750 [==============================] - 16s 21ms/step - loss: 0.3045 - accuracy: 0.8928 - val_loss: 0.3536 - val_accuracy: 0.8841 - lr: 0.0010\n",
            "Epoch 4/10\n",
            "750/750 [==============================] - 16s 21ms/step - loss: 0.2859 - accuracy: 0.8998 - val_loss: 0.3031 - val_accuracy: 0.8924 - lr: 0.0010\n",
            "Epoch 5/10\n",
            "750/750 [==============================] - 15s 20ms/step - loss: 0.2687 - accuracy: 0.9059 - val_loss: 0.2975 - val_accuracy: 0.8930 - lr: 0.0010\n",
            "Epoch 6/10\n",
            "750/750 [==============================] - 15s 20ms/step - loss: 0.2547 - accuracy: 0.9101 - val_loss: 0.2848 - val_accuracy: 0.8988 - lr: 0.0010\n",
            "Epoch 7/10\n",
            "750/750 [==============================] - 16s 21ms/step - loss: 0.2412 - accuracy: 0.9150 - val_loss: 0.3151 - val_accuracy: 0.8916 - lr: 0.0010\n",
            "Epoch 8/10\n",
            "750/750 [==============================] - 16s 21ms/step - loss: 0.2396 - accuracy: 0.9164 - val_loss: 0.2909 - val_accuracy: 0.9027 - lr: 0.0010\n",
            "Epoch 9/10\n",
            "750/750 [==============================] - 15s 21ms/step - loss: 0.2226 - accuracy: 0.9204 - val_loss: 0.2798 - val_accuracy: 0.9028 - lr: 0.0010\n",
            "Epoch 10/10\n",
            "750/750 [==============================] - 15s 21ms/step - loss: 0.2155 - accuracy: 0.9233 - val_loss: 0.2707 - val_accuracy: 0.9095 - lr: 0.0010\n"
          ]
        }
      ]
    },
    {
      "cell_type": "code",
      "source": [
        "test_loss, test_acc = model_vgg_tuned.evaluate(test_images, test_labels, verbose=2)\n",
        "print(f'\\nTest accuracy: {test_acc}')"
      ],
      "metadata": {
        "colab": {
          "base_uri": "https://localhost:8080/"
        },
        "id": "xXsjsRfeLNqE",
        "outputId": "47894a2c-f111-4e7e-9e8d-0149581cccfc"
      },
      "execution_count": 48,
      "outputs": [
        {
          "output_type": "stream",
          "name": "stdout",
          "text": [
            "313/313 - 2s - loss: 0.2896 - accuracy: 0.8989 - 2s/epoch - 8ms/step\n",
            "\n",
            "Test accuracy: 0.8988999724388123\n"
          ]
        }
      ]
    },
    {
      "cell_type": "code",
      "source": [
        "plt.plot(history_vgg.history['accuracy'], label='train_accuracy')\n",
        "plt.plot(history_vgg.history['val_accuracy'], label='val_accuracy')\n",
        "plt.xlabel('Epoch')\n",
        "plt.ylabel('Accuracy')\n",
        "plt.legend()\n",
        "plt.show()"
      ],
      "metadata": {
        "colab": {
          "base_uri": "https://localhost:8080/",
          "height": 449
        },
        "id": "HJSiRTbpLWOP",
        "outputId": "d1e3c3a7-dfc8-4799-a80f-26cb5795872f"
      },
      "execution_count": 49,
      "outputs": [
        {
          "output_type": "display_data",
          "data": {
            "text/plain": [
              "<Figure size 640x480 with 1 Axes>"
            ],
            "image/png": "[encoded data removed]"
          },
          "metadata": {}
        }
      ]
    },
    {
      "cell_type": "markdown",
      "source": [
        "Summary:\n",
        "\n",
        "The VGG16-based neural network can have higher accuracy compared to a self built CNN model. Using a predefined VGG16 model with fine-tuning allows us to take knowledge from larger datasets that the model has previously been trained on and adapt it to our dataset.\n",
        "Manipulation of parameters such as no. eras, batch size, and dropout have a significant impact on the performance of the final model."
      ],
      "metadata": {
        "id": "ot674sCHP71k"
      }
    }
  ]
}