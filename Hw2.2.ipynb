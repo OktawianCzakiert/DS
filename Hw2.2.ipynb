{
 "cells": [
  {
   "metadata": {},
   "cell_type": "markdown",
   "source": [
    "Część druga: Analiza plików\n",
    "Przeanalizuj plik 2017_jun_final.csv. Plik zawiera wyniki ankiety przeprowadzonej wśród deweloperów w czerwcu 2017 r.\n",
    "\n",
    "Zadanie domowe prześlij jako plik Jupyter Hw2.2.ipynb"
   ],
   "id": "868369ad7df6f6e3"
  },
  {
   "metadata": {
    "ExecuteTime": {
     "end_time": "2024-04-07T22:35:05.266823Z",
     "start_time": "2024-04-07T22:35:05.255548Z"
    }
   },
   "cell_type": "code",
   "source": [
    "import pandas as pd\n",
    "import matplotlib.pyplot as plt\n",
    "%matplotlib inline"
   ],
   "id": "5d115f4ca0223f3f",
   "outputs": [],
   "execution_count": 2
  },
  {
   "metadata": {},
   "cell_type": "markdown",
   "source": "1. Odczytaj plik 2017_jun_final.csv przy użyciu metody read_csv",
   "id": "7fab17f71560d63a"
  },
  {
   "metadata": {
    "ExecuteTime": {
     "end_time": "2024-04-07T22:35:05.425289Z",
     "start_time": "2024-04-07T22:35:05.371352Z"
    }
   },
   "cell_type": "code",
   "source": "data = pd.read_csv('2017_jun_final.csv')\n",
   "id": "72fcfbb0decd3069",
   "outputs": [],
   "execution_count": 3
  },
  {
   "metadata": {},
   "cell_type": "markdown",
   "source": "2. Odczytaj tabelę wynikową przy użyciu metody head",
   "id": "230fceb9a4f2a4ea"
  },
  {
   "metadata": {
    "ExecuteTime": {
     "end_time": "2024-04-07T22:35:05.443069Z",
     "start_time": "2024-04-07T22:35:05.426568Z"
    }
   },
   "cell_type": "code",
   "source": "data.head()",
   "id": "a39a3aa2e98a37aa",
   "outputs": [
    {
     "data": {
      "text/plain": [
       "   N                      Role Programming language Specialisation   \\\n",
       "0  1        Junior QA engineer                  NaN       Manual QA   \n",
       "1  2        Junior QA engineer                  NaN       Manual QA   \n",
       "2  3         Software Engineer              C#/.NET             NaN   \n",
       "3  4         Software Engineer           JavaScript             NaN   \n",
       "4  5  Senior Software Engineer           JavaScript             NaN   \n",
       "\n",
       "         Experience  Experience on current job  Salary/month  \\\n",
       "0                0.5                       0.5           400   \n",
       "1  loss then 3 month         loss then 3 month           430   \n",
       "2                  4                         1          2500   \n",
       "3                  5                         4          2000   \n",
       "4               10+                        0.5          4500   \n",
       "\n",
       "   Изменение.зарплаты.за.12.месяцев       City              Company size  ...  \\\n",
       "0                                 0  New York         up to 10 employees  ...   \n",
       "1                               130  New York   more then 1000 employees  ...   \n",
       "2                               800     Berlin      up to 1000 employees  ...   \n",
       "3                               400      Odesa       up to 200 employees  ...   \n",
       "4                               500      Other        up to 10 employees  ...   \n",
       "\n",
       "  Still student English                           Subject.area  \\\n",
       "0          True       A1                         iOS,eCommerce   \n",
       "1          True       B2                       Web development   \n",
       "2         False       B1   Web development,Corporative systems   \n",
       "3         False       A1  Desktop Applications,Web development   \n",
       "4         False       B1  Desktop Applications,Web development   \n",
       "\n",
       "                  Date                                         User.Agent  \\\n",
       "0  12/06/2017 12:38:08  Mozilla/5.0 (Windows NT 10.0; Win64; x64) Appl...   \n",
       "1  12/06/2017 12:42:51  Mozilla/5.0 (iPad; CPU OS 10_2_1 like Mac OS X...   \n",
       "2  12/06/2017 13:02:47  Mozilla/5.0 (Windows NT 10.0; Win64; x64) Appl...   \n",
       "3  12/06/2017 13:03:01  Mozilla/5.0 (Windows NT 6.1; Win64; x64) Apple...   \n",
       "4  12/06/2017 13:03:47  Mozilla/5.0 (iPhone; CPU iPhone OS 10_3_2 like...   \n",
       "\n",
       "    exp current_job_exp salary currency  cls  \n",
       "0   0.5             0.5    400      NaN   QA  \n",
       "1   0.0             0.0    430      NaN   QA  \n",
       "2   4.0             1.0   2500      NaN  DEV  \n",
       "3   5.0             4.0   2000      NaN  DEV  \n",
       "4  10.0             0.5   4500      NaN  DEV  \n",
       "\n",
       "[5 rows x 25 columns]"
      ],
      "text/html": [
       "<div>\n",
       "<style scoped>\n",
       "    .dataframe tbody tr th:only-of-type {\n",
       "        vertical-align: middle;\n",
       "    }\n",
       "\n",
       "    .dataframe tbody tr th {\n",
       "        vertical-align: top;\n",
       "    }\n",
       "\n",
       "    .dataframe thead th {\n",
       "        text-align: right;\n",
       "    }\n",
       "</style>\n",
       "<table border=\"1\" class=\"dataframe\">\n",
       "  <thead>\n",
       "    <tr style=\"text-align: right;\">\n",
       "      <th></th>\n",
       "      <th>N</th>\n",
       "      <th>Role</th>\n",
       "      <th>Programming language</th>\n",
       "      <th>Specialisation</th>\n",
       "      <th>Experience</th>\n",
       "      <th>Experience on current job</th>\n",
       "      <th>Salary/month</th>\n",
       "      <th>Изменение.зарплаты.за.12.месяцев</th>\n",
       "      <th>City</th>\n",
       "      <th>Company size</th>\n",
       "      <th>...</th>\n",
       "      <th>Still student</th>\n",
       "      <th>English</th>\n",
       "      <th>Subject.area</th>\n",
       "      <th>Date</th>\n",
       "      <th>User.Agent</th>\n",
       "      <th>exp</th>\n",
       "      <th>current_job_exp</th>\n",
       "      <th>salary</th>\n",
       "      <th>currency</th>\n",
       "      <th>cls</th>\n",
       "    </tr>\n",
       "  </thead>\n",
       "  <tbody>\n",
       "    <tr>\n",
       "      <th>0</th>\n",
       "      <td>1</td>\n",
       "      <td>Junior QA engineer</td>\n",
       "      <td>NaN</td>\n",
       "      <td>Manual QA</td>\n",
       "      <td>0.5</td>\n",
       "      <td>0.5</td>\n",
       "      <td>400</td>\n",
       "      <td>0</td>\n",
       "      <td>New York</td>\n",
       "      <td>up to 10 employees</td>\n",
       "      <td>...</td>\n",
       "      <td>True</td>\n",
       "      <td>A1</td>\n",
       "      <td>iOS,eCommerce</td>\n",
       "      <td>12/06/2017 12:38:08</td>\n",
       "      <td>Mozilla/5.0 (Windows NT 10.0; Win64; x64) Appl...</td>\n",
       "      <td>0.5</td>\n",
       "      <td>0.5</td>\n",
       "      <td>400</td>\n",
       "      <td>NaN</td>\n",
       "      <td>QA</td>\n",
       "    </tr>\n",
       "    <tr>\n",
       "      <th>1</th>\n",
       "      <td>2</td>\n",
       "      <td>Junior QA engineer</td>\n",
       "      <td>NaN</td>\n",
       "      <td>Manual QA</td>\n",
       "      <td>loss then 3 month</td>\n",
       "      <td>loss then 3 month</td>\n",
       "      <td>430</td>\n",
       "      <td>130</td>\n",
       "      <td>New York</td>\n",
       "      <td>more then 1000 employees</td>\n",
       "      <td>...</td>\n",
       "      <td>True</td>\n",
       "      <td>B2</td>\n",
       "      <td>Web development</td>\n",
       "      <td>12/06/2017 12:42:51</td>\n",
       "      <td>Mozilla/5.0 (iPad; CPU OS 10_2_1 like Mac OS X...</td>\n",
       "      <td>0.0</td>\n",
       "      <td>0.0</td>\n",
       "      <td>430</td>\n",
       "      <td>NaN</td>\n",
       "      <td>QA</td>\n",
       "    </tr>\n",
       "    <tr>\n",
       "      <th>2</th>\n",
       "      <td>3</td>\n",
       "      <td>Software Engineer</td>\n",
       "      <td>C#/.NET</td>\n",
       "      <td>NaN</td>\n",
       "      <td>4</td>\n",
       "      <td>1</td>\n",
       "      <td>2500</td>\n",
       "      <td>800</td>\n",
       "      <td>Berlin</td>\n",
       "      <td>up to 1000 employees</td>\n",
       "      <td>...</td>\n",
       "      <td>False</td>\n",
       "      <td>B1</td>\n",
       "      <td>Web development,Corporative systems</td>\n",
       "      <td>12/06/2017 13:02:47</td>\n",
       "      <td>Mozilla/5.0 (Windows NT 10.0; Win64; x64) Appl...</td>\n",
       "      <td>4.0</td>\n",
       "      <td>1.0</td>\n",
       "      <td>2500</td>\n",
       "      <td>NaN</td>\n",
       "      <td>DEV</td>\n",
       "    </tr>\n",
       "    <tr>\n",
       "      <th>3</th>\n",
       "      <td>4</td>\n",
       "      <td>Software Engineer</td>\n",
       "      <td>JavaScript</td>\n",
       "      <td>NaN</td>\n",
       "      <td>5</td>\n",
       "      <td>4</td>\n",
       "      <td>2000</td>\n",
       "      <td>400</td>\n",
       "      <td>Odesa</td>\n",
       "      <td>up to 200 employees</td>\n",
       "      <td>...</td>\n",
       "      <td>False</td>\n",
       "      <td>A1</td>\n",
       "      <td>Desktop Applications,Web development</td>\n",
       "      <td>12/06/2017 13:03:01</td>\n",
       "      <td>Mozilla/5.0 (Windows NT 6.1; Win64; x64) Apple...</td>\n",
       "      <td>5.0</td>\n",
       "      <td>4.0</td>\n",
       "      <td>2000</td>\n",
       "      <td>NaN</td>\n",
       "      <td>DEV</td>\n",
       "    </tr>\n",
       "    <tr>\n",
       "      <th>4</th>\n",
       "      <td>5</td>\n",
       "      <td>Senior Software Engineer</td>\n",
       "      <td>JavaScript</td>\n",
       "      <td>NaN</td>\n",
       "      <td>10+</td>\n",
       "      <td>0.5</td>\n",
       "      <td>4500</td>\n",
       "      <td>500</td>\n",
       "      <td>Other</td>\n",
       "      <td>up to 10 employees</td>\n",
       "      <td>...</td>\n",
       "      <td>False</td>\n",
       "      <td>B1</td>\n",
       "      <td>Desktop Applications,Web development</td>\n",
       "      <td>12/06/2017 13:03:47</td>\n",
       "      <td>Mozilla/5.0 (iPhone; CPU iPhone OS 10_3_2 like...</td>\n",
       "      <td>10.0</td>\n",
       "      <td>0.5</td>\n",
       "      <td>4500</td>\n",
       "      <td>NaN</td>\n",
       "      <td>DEV</td>\n",
       "    </tr>\n",
       "  </tbody>\n",
       "</table>\n",
       "<p>5 rows × 25 columns</p>\n",
       "</div>"
      ]
     },
     "execution_count": 4,
     "metadata": {},
     "output_type": "execute_result"
    }
   ],
   "execution_count": 4
  },
  {
   "metadata": {},
   "cell_type": "markdown",
   "source": "3. Zdefiniuj rozmiar tabeli przy użyciu metody shape",
   "id": "bcf53919712e3e0"
  },
  {
   "metadata": {
    "ExecuteTime": {
     "end_time": "2024-04-07T22:35:05.453665Z",
     "start_time": "2024-04-07T22:35:05.444642Z"
    }
   },
   "cell_type": "code",
   "source": "data.shape",
   "id": "d51e92232113adc",
   "outputs": [
    {
     "data": {
      "text/plain": [
       "(8704, 25)"
      ]
     },
     "execution_count": 5,
     "metadata": {},
     "output_type": "execute_result"
    }
   ],
   "execution_count": 5
  },
  {
   "metadata": {},
   "cell_type": "markdown",
   "source": "4. Zdefiniuj typy wszystkich kolumn za pomocą metody dataframe.dtypes",
   "id": "efe4f783db258754"
  },
  {
   "metadata": {
    "ExecuteTime": {
     "end_time": "2024-04-07T22:35:05.464827Z",
     "start_time": "2024-04-07T22:35:05.459093Z"
    }
   },
   "cell_type": "code",
   "source": "data.dtypes",
   "id": "b7f288d359d99f6a",
   "outputs": [
    {
     "data": {
      "text/plain": [
       "N                                     int64\n",
       "Role                                 object\n",
       "Programming language                 object\n",
       "Specialisation                       object\n",
       "Experience                           object\n",
       "Experience on current job            object\n",
       "Salary/month                          int64\n",
       "Изменение.зарплаты.за.12.месяцев      int64\n",
       "City                                 object\n",
       "Company size                         object\n",
       "Company type                         object\n",
       "Gender                               object\n",
       "Age                                   int64\n",
       "Education                            object\n",
       "University                           object\n",
       "Still student                          bool\n",
       "English                              object\n",
       "Subject.area                         object\n",
       "Date                                 object\n",
       "User.Agent                           object\n",
       "exp                                 float64\n",
       "current_job_exp                     float64\n",
       "salary                                int64\n",
       "currency                             object\n",
       "cls                                  object\n",
       "dtype: object"
      ]
     },
     "execution_count": 6,
     "metadata": {},
     "output_type": "execute_result"
    }
   ],
   "execution_count": 6
  },
  {
   "metadata": {},
   "cell_type": "markdown",
   "source": "5. Oblicz proporcję spacji w każdej kolumnie (użyj metod isnull i sum).",
   "id": "c794979c754e3bfb"
  },
  {
   "metadata": {
    "ExecuteTime": {
     "end_time": "2024-04-07T22:35:05.480118Z",
     "start_time": "2024-04-07T22:35:05.467008Z"
    }
   },
   "cell_type": "code",
   "source": [
    "space_proportion = data.isnull().sum() / len(data)\n",
    "print(\"Space Proportion: \\n\", space_proportion)"
   ],
   "id": "e28298b4d5b2638d",
   "outputs": [
    {
     "name": "stdout",
     "output_type": "stream",
     "text": [
      "Space Proportion: \n",
      " N                                   0.000000\n",
      "Role                                0.000000\n",
      "Programming language                0.442325\n",
      "Specialisation                      0.829389\n",
      "Experience                          0.000000\n",
      "Experience on current job           0.000000\n",
      "Salary/month                        0.000000\n",
      "Изменение.зарплаты.за.12.месяцев    0.000000\n",
      "City                                0.000000\n",
      "Company size                        0.000000\n",
      "Company type                        0.000000\n",
      "Gender                              0.000000\n",
      "Age                                 0.000000\n",
      "Education                           0.000000\n",
      "University                          0.177619\n",
      "Still student                       0.000000\n",
      "English                             0.000000\n",
      "Subject.area                        0.025620\n",
      "Date                                0.000000\n",
      "User.Agent                          0.000000\n",
      "exp                                 0.000000\n",
      "current_job_exp                     0.000000\n",
      "salary                              0.000000\n",
      "currency                            0.998851\n",
      "cls                                 0.180836\n",
      "dtype: float64\n"
     ]
    }
   ],
   "execution_count": 7
  },
  {
   "metadata": {
    "ExecuteTime": {
     "end_time": "2024-04-07T22:35:05.856423Z",
     "start_time": "2024-04-07T22:35:05.579969Z"
    }
   },
   "cell_type": "code",
   "source": [
    "space_proportion.plot(kind='hist', edgecolor='black')\n",
    "plt.xlabel(\"Space Proportion\")\n",
    "plt.xticks(rotation=90)\n",
    "plt.ylabel(\"Frequency\")\n",
    "plt.show()"
   ],
   "id": "14990aa45d60ecc5",
   "outputs": [
    {
     "data": {
      "text/plain": [
       "<Figure size 640x480 with 1 Axes>"
      ],
      "image/png": "[encoded data removed]"
     },
     "metadata": {},
     "output_type": "display_data"
    }
   ],
   "execution_count": 8
  },
  {
   "metadata": {},
   "cell_type": "markdown",
   "source": [
    "\n",
    "6. Usuń wszystkie kolumny ze spacjami z wyjątkiem kolumny \"Język programowania\""
   ],
   "id": "a2feb65bb7bd99ee"
  },
  {
   "metadata": {},
   "cell_type": "markdown",
   "source": "",
   "id": "d498f60678447197"
  },
  {
   "metadata": {
    "ExecuteTime": {
     "end_time": "2024-04-07T22:35:05.890825Z",
     "start_time": "2024-04-07T22:35:05.861312Z"
    }
   },
   "cell_type": "code",
   "source": [
    "column_to_keep =['Programming language']\n",
    "columns_to_drop = [col for col in data.columns if (col not in column_to_keep and data[col].isnull().any())]\n",
    "data_cleaned = data.drop(columns=columns_to_drop)\n",
    "print(\"Data cleaned: \\n\",data_cleaned)"
   ],
   "id": "54a7a6c3b58cae34",
   "outputs": [
    {
     "name": "stdout",
     "output_type": "stream",
     "text": [
      "Data cleaned: \n",
      "          N                      Role Programming language        Experience   \\\n",
      "0        1        Junior QA engineer                  NaN                0.5   \n",
      "1        2        Junior QA engineer                  NaN  loss then 3 month   \n",
      "2        3         Software Engineer              C#/.NET                  4   \n",
      "3        4         Software Engineer           JavaScript                  5   \n",
      "4        5  Senior Software Engineer           JavaScript               10+    \n",
      "...    ...                       ...                  ...                ...   \n",
      "8699  8700               QA engineer                  NaN                  1   \n",
      "8700  8701                 Marketing                  NaN                0.5   \n",
      "8701  8702  Junior Software Engineer           Ruby/Rails                  1   \n",
      "8702  8703                 Team lead                  NaN                  6   \n",
      "8703  8704  Senior Software Engineer                 Java                  7   \n",
      "\n",
      "     Experience on current job  Salary/month  \\\n",
      "0                          0.5           400   \n",
      "1            loss then 3 month           430   \n",
      "2                            1          2500   \n",
      "3                            4          2000   \n",
      "4                          0.5          4500   \n",
      "...                        ...           ...   \n",
      "8699         loss then 3 month           700   \n",
      "8700                       0.5           400   \n",
      "8701                       0.5           800   \n",
      "8702                         4          2600   \n",
      "8703                         2          5000   \n",
      "\n",
      "      Изменение.зарплаты.за.12.месяцев       City              Company size  \\\n",
      "0                                    0  New York         up to 10 employees   \n",
      "1                                  130  New York   more then 1000 employees   \n",
      "2                                  800     Berlin      up to 1000 employees   \n",
      "3                                  400      Odesa       up to 200 employees   \n",
      "4                                  500      Other        up to 10 employees   \n",
      "...                                ...        ...                       ...   \n",
      "8699                               700      Odesa        up to 50 employees   \n",
      "8700                               120     Berlin        up to 50 employees   \n",
      "8701                               500       Rome        up to 10 employees   \n",
      "8702                                 0      Paris  more then 1000 employees   \n",
      "8703                               800      Odesa      up to 1000 employees   \n",
      "\n",
      "     Company type  Gender  Age                    Education  Still student  \\\n",
      "0     Outsourcing  female   20  Unfinished Higher education           True   \n",
      "1     Outsourcing  female   21  Unfinished Higher education           True   \n",
      "2     Outsourcing    male   26             Higher education          False   \n",
      "3         product    male   30          Secondary education          False   \n",
      "4         product    male   30          Secondary education          False   \n",
      "...           ...     ...  ...                          ...            ...   \n",
      "8699  Outsourcing    male   23             Higher education          False   \n",
      "8700      product  female   22             Higher education          False   \n",
      "8701  Outstaffing    male   30  Unfinished Higher education          False   \n",
      "8702  Outsourcing    male   34             Higher education          False   \n",
      "8703      product    male   28             Higher education          False   \n",
      "\n",
      "     English                  Date  \\\n",
      "0          A1  12/06/2017 12:38:08   \n",
      "1          B2  12/06/2017 12:42:51   \n",
      "2          B1  12/06/2017 13:02:47   \n",
      "3          A1  12/06/2017 13:03:01   \n",
      "4          B1  12/06/2017 13:03:47   \n",
      "...       ...                  ...   \n",
      "8699       B1  12/07/2017 15:45:24   \n",
      "8700       A1  12/07/2017 17:00:06   \n",
      "8701       B2  12/07/2017 17:32:26   \n",
      "8702       С1  12/07/2017 18:14:59   \n",
      "8703       B2  12/07/2017 21:28:57   \n",
      "\n",
      "                                             User.Agent   exp  \\\n",
      "0     Mozilla/5.0 (Windows NT 10.0; Win64; x64) Appl...   0.5   \n",
      "1     Mozilla/5.0 (iPad; CPU OS 10_2_1 like Mac OS X...   0.0   \n",
      "2     Mozilla/5.0 (Windows NT 10.0; Win64; x64) Appl...   4.0   \n",
      "3     Mozilla/5.0 (Windows NT 6.1; Win64; x64) Apple...   5.0   \n",
      "4     Mozilla/5.0 (iPhone; CPU iPhone OS 10_3_2 like...  10.0   \n",
      "...                                                 ...   ...   \n",
      "8699  Mozilla/5.0 (X11; Ubuntu; Linux x86_64; rv:54....   1.0   \n",
      "8700  Mozilla/5.0 (Windows NT 10.0; Win64; x64) Appl...   0.5   \n",
      "8701  Mozilla/5.0 (X11; Linux x86_64) AppleWebKit/53...   1.0   \n",
      "8702  Mozilla/5.0 (Windows NT 6.1) AppleWebKit/537.3...   6.0   \n",
      "8703  Mozilla/5.0 (iPad; CPU OS 10_3_2 like Mac OS X...   7.0   \n",
      "\n",
      "      current_job_exp  salary  \n",
      "0                 0.5     400  \n",
      "1                 0.0     430  \n",
      "2                 1.0    2500  \n",
      "3                 4.0    2000  \n",
      "4                 0.5    4500  \n",
      "...               ...     ...  \n",
      "8699              0.0     700  \n",
      "8700              0.5     400  \n",
      "8701              0.5     800  \n",
      "8702              4.0    2600  \n",
      "8703              2.0    5000  \n",
      "\n",
      "[8704 rows x 20 columns]\n"
     ]
    }
   ],
   "execution_count": 9
  },
  {
   "metadata": {},
   "cell_type": "markdown",
   "source": [
    "\n",
    "7. Ponownie policz odsetek pustych miejsc w każdej kolumnie i upewnij się, że pozostała tylko kolumna \"Język programowania\""
   ],
   "id": "8ed2fe26546d854e"
  },
  {
   "metadata": {
    "ExecuteTime": {
     "end_time": "2024-04-07T22:35:06.083056Z",
     "start_time": "2024-04-07T22:35:06.069924Z"
    }
   },
   "cell_type": "code",
   "source": [
    "space_proportion_clean = data_cleaned.isnull().sum() / len(data_cleaned)\n",
    "print(\"Space Proportion Clean: \\n\", space_proportion_clean)"
   ],
   "id": "2035f59954d4a19b",
   "outputs": [
    {
     "name": "stdout",
     "output_type": "stream",
     "text": [
      "Space Proportion Clean: \n",
      " N                                   0.000000\n",
      "Role                                0.000000\n",
      "Programming language                0.442325\n",
      "Experience                          0.000000\n",
      "Experience on current job           0.000000\n",
      "Salary/month                        0.000000\n",
      "Изменение.зарплаты.за.12.месяцев    0.000000\n",
      "City                                0.000000\n",
      "Company size                        0.000000\n",
      "Company type                        0.000000\n",
      "Gender                              0.000000\n",
      "Age                                 0.000000\n",
      "Education                           0.000000\n",
      "Still student                       0.000000\n",
      "English                             0.000000\n",
      "Date                                0.000000\n",
      "User.Agent                          0.000000\n",
      "exp                                 0.000000\n",
      "current_job_exp                     0.000000\n",
      "salary                              0.000000\n",
      "dtype: float64\n"
     ]
    }
   ],
   "execution_count": 10
  },
  {
   "metadata": {},
   "cell_type": "markdown",
   "source": [
    "\n",
    "8. Usuń wszystkie wiersze z oryginalnej tabeli za pomocą metody dropna"
   ],
   "id": "3a36ebc5626fdeac"
  },
  {
   "metadata": {
    "ExecuteTime": {
     "end_time": "2024-04-07T22:35:06.245408Z",
     "start_time": "2024-04-07T22:35:06.229888Z"
    }
   },
   "cell_type": "code",
   "source": [
    "empty_table = data.dropna(axis=0, how='any')\n",
    "print(\"Empty Table: \\n\", empty_table)"
   ],
   "id": "7e76861acb1eb54f",
   "outputs": [
    {
     "name": "stdout",
     "output_type": "stream",
     "text": [
      "Empty Table: \n",
      " Empty DataFrame\n",
      "Columns: [N, Role, Programming language, Specialisation , Experience , Experience on current job, Salary/month, Изменение.зарплаты.за.12.месяцев, City, Company size, Company type, Gender, Age, Education, University, Still student, English , Subject.area, Date, User.Agent, exp, current_job_exp, salary, currency, cls]\n",
      "Index: []\n",
      "\n",
      "[0 rows x 25 columns]\n"
     ]
    }
   ],
   "execution_count": 11
  },
  {
   "metadata": {},
   "cell_type": "markdown",
   "source": [
    "\n",
    "9. Zdefiniuj nowy rozmiar tabeli za pomocą metody shape"
   ],
   "id": "313993541172343d"
  },
  {
   "metadata": {
    "ExecuteTime": {
     "end_time": "2024-04-07T22:35:06.419541Z",
     "start_time": "2024-04-07T22:35:06.414532Z"
    }
   },
   "cell_type": "code",
   "source": "data_cleaned.shape",
   "id": "f7c13bf4c6968034",
   "outputs": [
    {
     "data": {
      "text/plain": [
       "(8704, 20)"
      ]
     },
     "execution_count": 12,
     "metadata": {},
     "output_type": "execute_result"
    }
   ],
   "execution_count": 12
  },
  {
   "metadata": {},
   "cell_type": "markdown",
   "source": [
    "\n",
    "10. Utwórz nową tabelę python_data, która będzie zawierać tylko wiersze ze specjalistami, którzy podali język programowania Python"
   ],
   "id": "e01d8552a8d40124"
  },
  {
   "metadata": {
    "ExecuteTime": {
     "end_time": "2024-04-07T22:35:06.486841Z",
     "start_time": "2024-04-07T22:35:06.473831Z"
    }
   },
   "cell_type": "code",
   "source": [
    "python_data = data_cleaned[data_cleaned['Programming language'] == 'Python']\n",
    "print(\"Python Data: \\n\", python_data)"
   ],
   "id": "cbf8d2f2586ff158",
   "outputs": [
    {
     "name": "stdout",
     "output_type": "stream",
     "text": [
      "Python Data: \n",
      "          N                      Role Programming language Experience   \\\n",
      "12      13         Software Engineer               Python           1   \n",
      "68      69         Software Engineer               Python         1.5   \n",
      "87      88  Junior Software Engineer               Python         0.5   \n",
      "114    115  Junior Software Engineer               Python         1.5   \n",
      "143    144  Junior Software Engineer               Python           1   \n",
      "...    ...                       ...                  ...         ...   \n",
      "8546  8547         Software Engineer               Python           5   \n",
      "8625  8626         Software Engineer               Python           4   \n",
      "8635  8636  Senior Software Engineer               Python        10+    \n",
      "8673  8674  Junior Software Engineer               Python         0.5   \n",
      "8695  8696         Software Engineer               Python           1   \n",
      "\n",
      "     Experience on current job  Salary/month  \\\n",
      "12           loss then 3 month           800   \n",
      "68                         0.5           900   \n",
      "87                         0.5           600   \n",
      "114                        0.5           685   \n",
      "143                          1           750   \n",
      "...                        ...           ...   \n",
      "8546                         1          2000   \n",
      "8625                         1          1750   \n",
      "8635         loss then 3 month          4000   \n",
      "8673                       0.5           350   \n",
      "8695                       0.5          1500   \n",
      "\n",
      "      Изменение.зарплаты.за.12.месяцев    City              Company size  \\\n",
      "12                                 200  Berlin        up to 50 employees   \n",
      "68                                 900  Berlin        up to 10 employees   \n",
      "87                                   0  Berlin        up to 10 employees   \n",
      "114                                250  Berlin      up to 1000 employees   \n",
      "143                                250  Berlin        up to 10 employees   \n",
      "...                                ...     ...                       ...   \n",
      "8546                               800    Łódź        up to 50 employees   \n",
      "8625                                 0  Berlin  more then 1000 employees   \n",
      "8635                              1300  Remote        up to 10 employees   \n",
      "8673                                50  Berlin        up to 50 employees   \n",
      "8695                              1000  Berlin        up to 10 employees   \n",
      "\n",
      "     Company type Gender  Age                    Education  Still student  \\\n",
      "12    Outsourcing   male   26             Higher education          False   \n",
      "68       start up   male   21  Unfinished Higher education           True   \n",
      "87    Outsourcing   male   19  Unfinished Higher education           True   \n",
      "114   Outsourcing   male   21  Unfinished Higher education          False   \n",
      "143   Outsourcing   male   21  Unfinished Higher education           True   \n",
      "...           ...    ...  ...                          ...            ...   \n",
      "8546  Outsourcing   male   22  Unfinished Higher education          False   \n",
      "8625  Outsourcing   male   28          Secondary education          False   \n",
      "8635     start up   male   33             Higher education          False   \n",
      "8673  Outsourcing   male   22             Higher education          False   \n",
      "8695     start up   male   29             Higher education          False   \n",
      "\n",
      "     English                  Date  \\\n",
      "12         A1  12/06/2017 13:05:54   \n",
      "68         B2  12/06/2017 13:11:17   \n",
      "87         B2  12/06/2017 13:12:25   \n",
      "114        B1  12/06/2017 13:14:52   \n",
      "143        B2  12/06/2017 13:19:10   \n",
      "...       ...                  ...   \n",
      "8546       B1  10/07/2017 14:11:26   \n",
      "8625       B1  11/07/2017 16:15:40   \n",
      "8635       B2  11/07/2017 17:51:36   \n",
      "8673       B1   12/07/2017 9:37:16   \n",
      "8695       B1  12/07/2017 14:39:21   \n",
      "\n",
      "                                             User.Agent   exp  \\\n",
      "12    Mozilla/5.0 (Windows NT 6.1; Win64; x64) Apple...   1.0   \n",
      "68    Mozilla/5.0 (Windows NT 10.0; Win64; x64) Appl...   1.5   \n",
      "87    Mozilla/5.0 (X11; Linux x86_64) AppleWebKit/53...   0.5   \n",
      "114   Mozilla/5.0 (X11; Linux x86_64) AppleWebKit/53...   1.5   \n",
      "143   Mozilla/5.0 (X11; Linux x86_64) AppleWebKit/53...   1.0   \n",
      "...                                                 ...   ...   \n",
      "8546  Mozilla/5.0 (Macintosh; Intel Mac OS X 10_12_5...   5.0   \n",
      "8625  Mozilla/5.0 (X11; Ubuntu; Linux x86_64; rv:54....   4.0   \n",
      "8635  Mozilla/5.0 (X11; Linux x86_64) AppleWebKit/53...  10.0   \n",
      "8673  Mozilla/5.0 (X11; Ubuntu; Linux x86_64; rv:54....   0.5   \n",
      "8695  Mozilla/5.0 (X11; Linux x86_64) AppleWebKit/53...   1.0   \n",
      "\n",
      "      current_job_exp  salary  \n",
      "12                0.0     800  \n",
      "68                0.5     900  \n",
      "87                0.5     600  \n",
      "114               0.5     685  \n",
      "143               1.0     750  \n",
      "...               ...     ...  \n",
      "8546              1.0    2000  \n",
      "8625              1.0    1750  \n",
      "8635              0.0    4000  \n",
      "8673              0.5     350  \n",
      "8695              0.5    1500  \n",
      "\n",
      "[207 rows x 20 columns]\n"
     ]
    }
   ],
   "execution_count": 13
  },
  {
   "metadata": {},
   "cell_type": "markdown",
   "source": [
    "\n",
    "11. Zdefiniuj rozmiar tabeli python_data za pomocą metody shape"
   ],
   "id": "6623058583db2f4d"
  },
  {
   "metadata": {
    "ExecuteTime": {
     "end_time": "2024-04-07T22:35:06.588939Z",
     "start_time": "2024-04-07T22:35:06.574346Z"
    }
   },
   "cell_type": "code",
   "source": "python_data.shape",
   "id": "cd96e03c472b4686",
   "outputs": [
    {
     "data": {
      "text/plain": [
       "(207, 20)"
      ]
     },
     "execution_count": 14,
     "metadata": {},
     "output_type": "execute_result"
    }
   ],
   "execution_count": 14
  },
  {
   "metadata": {},
   "cell_type": "markdown",
   "source": [
    "\n",
    "12. Używając metody [groupby](https://pandas.pydata.org/docs/reference/api/pandas.DataFrame.groupby.html), pogrupuj według kolumny \"Stanowisko\""
   ],
   "id": "d22805d18cdb13ff"
  },
  {
   "metadata": {
    "ExecuteTime": {
     "end_time": "2024-04-07T22:35:06.620121Z",
     "start_time": "2024-04-07T22:35:06.616294Z"
    }
   },
   "cell_type": "code",
   "source": "python_grouped = python_data.groupby(by=['Role'])\n",
   "id": "75085cf4c4403c9c",
   "outputs": [],
   "execution_count": 15
  },
  {
   "metadata": {},
   "cell_type": "markdown",
   "source": [
    "\n",
    "13. Utwórz nowy DataFrame, w którym dla danych pogrupowanych według kolumny \"Stanowisko\" wykonaj agregację danych za pomocą metody [agg](https://pandas.pydata.org/docs/reference/api/pandas.DataFrame.agg.html) i znajdź minimalne i maksymalne wartości w kolumnie \"Wynagrodzenie.za.miesiąc\""
   ],
   "id": "cbb504b60039b2d3"
  },
  {
   "metadata": {
    "ExecuteTime": {
     "end_time": "2024-04-07T22:35:06.731949Z",
     "start_time": "2024-04-07T22:35:06.720697Z"
    }
   },
   "cell_type": "code",
   "source": [
    "aggregated_df = python_grouped.agg({'Salary/month': ['min', 'max']})\n",
    "print(\"Aggregated Data: \\n\", aggregated_df)\n"
   ],
   "id": "52481a66bbbf50cc",
   "outputs": [
    {
     "name": "stdout",
     "output_type": "stream",
     "text": [
      "Aggregated Data: \n",
      "                          Salary/month      \n",
      "                                  min   max\n",
      "Role                                       \n",
      "Junior Software Engineer          100  1250\n",
      "Senior Software Engineer         1300  9200\n",
      "Software Engineer                 500  5400\n",
      "System Architect                 3000  5000\n",
      "Technical Lead                   1425  6200\n"
     ]
    }
   ],
   "execution_count": 16
  },
  {
   "metadata": {
    "ExecuteTime": {
     "end_time": "2024-04-07T22:35:07.020454Z",
     "start_time": "2024-04-07T22:35:06.770988Z"
    }
   },
   "cell_type": "code",
   "source": [
    "plt.plot(aggregated_df.index, aggregated_df['Salary/month', 'min'], label='Min Salary', color='red', linestyle=\":\",marker=\".\", markersize=8)\n",
    "plt.plot(aggregated_df.index, aggregated_df['Salary/month', 'max'], label='Max Salary', color='blue', linestyle=\"--\",marker=\"^\", markersize=8)\n",
    "plt.xlabel('Role')\n",
    "plt.xticks(rotation=90)\n",
    "plt.ylabel('Salary/month', fontsize=\"small\")\n",
    "plt.title('Salary Range by Role', fontsize=\"small\")\n",
    "plt.legend()\n",
    "plt.show()"
   ],
   "id": "126c8aee7beba910",
   "outputs": [
    {
     "data": {
      "text/plain": [
       "<Figure size 640x480 with 1 Axes>"
      ],
      "image/png": "[encoded data removed]"
     },
     "metadata": {},
     "output_type": "display_data"
    }
   ],
   "execution_count": 17
  },
  {
   "metadata": {},
   "cell_type": "markdown",
   "source": [
    "\n",
    "14. Utwórz funkcję fill_avg_salary, która zwróci średnią miesięczną pensję. Użyj jej w metodzie [apply](https://pandas.pydata.org/docs/reference/api/pandas.DataFrame.apply.html) i utwórz nową kolumnę \"avg\""
   ],
   "id": "6f396d30c407d73e"
  },
  {
   "metadata": {
    "ExecuteTime": {
     "end_time": "2024-04-07T22:41:46.811484Z",
     "start_time": "2024-04-07T22:41:46.797431Z"
    }
   },
   "cell_type": "code",
   "source": [
    "def fill_avg_salary(group):\n",
    "    return group['Salary/month'].mean()\n",
    "\n",
    "aggregated_df['avg']=python_grouped.apply(fill_avg_salary)\n",
    "aggregated_df\n"
   ],
   "id": "b86ad0de29e803a0",
   "outputs": [
    {
     "name": "stderr",
     "output_type": "stream",
     "text": [
      "/var/folders/24/nzhgvbcd76l_f3dxz3n92mhm0000gn/T/ipykernel_31098/1064178167.py:4: DeprecationWarning: DataFrameGroupBy.apply operated on the grouping columns. This behavior is deprecated, and in a future version of pandas the grouping columns will be excluded from the operation. Either pass `include_groups=False` to exclude the groupings or explicitly select the grouping columns after groupby to silence this warning.\n",
      "  aggregated_df['avg']=python_grouped.apply(fill_avg_salary)\n"
     ]
    },
    {
     "data": {
      "text/plain": [
       "                         Salary/month                avg\n",
       "                                  min   max             \n",
       "Role                                                    \n",
       "Junior Software Engineer          100  1250   560.841270\n",
       "Senior Software Engineer         1300  9200  3387.096774\n",
       "Software Engineer                 500  5400  1799.070000\n",
       "System Architect                 3000  5000  4000.000000\n",
       "Technical Lead                   1425  6200  3165.909091"
      ],
      "text/html": [
       "<div>\n",
       "<style scoped>\n",
       "    .dataframe tbody tr th:only-of-type {\n",
       "        vertical-align: middle;\n",
       "    }\n",
       "\n",
       "    .dataframe tbody tr th {\n",
       "        vertical-align: top;\n",
       "    }\n",
       "\n",
       "    .dataframe thead tr th {\n",
       "        text-align: left;\n",
       "    }\n",
       "\n",
       "    .dataframe thead tr:last-of-type th {\n",
       "        text-align: right;\n",
       "    }\n",
       "</style>\n",
       "<table border=\"1\" class=\"dataframe\">\n",
       "  <thead>\n",
       "    <tr>\n",
       "      <th></th>\n",
       "      <th colspan=\"2\" halign=\"left\">Salary/month</th>\n",
       "      <th>avg</th>\n",
       "    </tr>\n",
       "    <tr>\n",
       "      <th></th>\n",
       "      <th>min</th>\n",
       "      <th>max</th>\n",
       "      <th></th>\n",
       "    </tr>\n",
       "    <tr>\n",
       "      <th>Role</th>\n",
       "      <th></th>\n",
       "      <th></th>\n",
       "      <th></th>\n",
       "    </tr>\n",
       "  </thead>\n",
       "  <tbody>\n",
       "    <tr>\n",
       "      <th>Junior Software Engineer</th>\n",
       "      <td>100</td>\n",
       "      <td>1250</td>\n",
       "      <td>560.841270</td>\n",
       "    </tr>\n",
       "    <tr>\n",
       "      <th>Senior Software Engineer</th>\n",
       "      <td>1300</td>\n",
       "      <td>9200</td>\n",
       "      <td>3387.096774</td>\n",
       "    </tr>\n",
       "    <tr>\n",
       "      <th>Software Engineer</th>\n",
       "      <td>500</td>\n",
       "      <td>5400</td>\n",
       "      <td>1799.070000</td>\n",
       "    </tr>\n",
       "    <tr>\n",
       "      <th>System Architect</th>\n",
       "      <td>3000</td>\n",
       "      <td>5000</td>\n",
       "      <td>4000.000000</td>\n",
       "    </tr>\n",
       "    <tr>\n",
       "      <th>Technical Lead</th>\n",
       "      <td>1425</td>\n",
       "      <td>6200</td>\n",
       "      <td>3165.909091</td>\n",
       "    </tr>\n",
       "  </tbody>\n",
       "</table>\n",
       "</div>"
      ]
     },
     "execution_count": 30,
     "metadata": {},
     "output_type": "execute_result"
    }
   ],
   "execution_count": 30
  },
  {
   "metadata": {
    "ExecuteTime": {
     "end_time": "2024-04-07T22:42:29.415307Z",
     "start_time": "2024-04-07T22:42:29.300741Z"
    }
   },
   "cell_type": "code",
   "source": [
    "plt.pie(aggregated_df['avg'], labels=aggregated_df.index, shadow=True,\n",
    "    autopct=lambda p:f'{p:.2f}%, {p*sum(aggregated_df['avg'])/100 :.0f}',\n",
    "    pctdistance=1.20,\n",
    "    labeldistance=1.35)\n",
    "plt.title('Avg Salary Range by Role', fontsize=\"small\")\n",
    "plt.show()"
   ],
   "id": "451ff6b485749e12",
   "outputs": [
    {
     "data": {
      "text/plain": [
       "<Figure size 640x480 with 1 Axes>"
      ],
      "image/png": "[encoded data removed]"
     },
     "metadata": {},
     "output_type": "display_data"
    }
   ],
   "execution_count": 37
  },
  {
   "metadata": {},
   "cell_type": "markdown",
   "source": [
    "\n",
    "15. Utwórz statystyki opisowe za pomocą metody describe dla nowej kolumny"
   ],
   "id": "3b828b47b45db92a"
  },
  {
   "metadata": {},
   "cell_type": "code",
   "source": [
    "stats = aggregated_df['avg'].describe()\n",
    "print(\"Statistics: \\n\", stats)\n"
   ],
   "id": "51053123c936dc7e",
   "outputs": [],
   "execution_count": null
  },
  {
   "metadata": {},
   "cell_type": "markdown",
   "source": "16. Zapisz wynikową tabelę w pliku CSV",
   "id": "455ee65e960f9115"
  },
  {
   "metadata": {},
   "cell_type": "code",
   "source": "aggregated_df.to_csv('aggregated_data.csv')\n",
   "id": "6f0015f0f28d2071",
   "outputs": [],
   "execution_count": null
  },
  {
   "metadata": {},
   "cell_type": "code",
   "source": "",
   "id": "3111baa7e0e31b3c",
   "outputs": [],
   "execution_count": null
  }
 ],
 "metadata": {
  "kernelspec": {
   "display_name": "Python 3",
   "language": "python",
   "name": "python3"
  },
  "language_info": {
   "codemirror_mode": {
    "name": "ipython",
    "version": 2
   },
   "file_extension": ".py",
   "mimetype": "text/x-python",
   "name": "python",
   "nbconvert_exporter": "python",
   "pygments_lexer": "ipython2",
   "version": "2.7.6"
  }
 },
 "nbformat": 4,
 "nbformat_minor": 5
}
